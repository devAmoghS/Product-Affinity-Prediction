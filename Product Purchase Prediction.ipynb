{
 "cells": [
  {
   "cell_type": "code",
   "execution_count": 1,
   "metadata": {},
   "outputs": [],
   "source": [
    "# importing libraries\n",
    "import numpy as np\n",
    "import pandas as pd\n",
    "import seaborn as sns\n",
    "import matplotlib.pyplot as plt\n",
    "from scipy import special, stats\n",
    "\n",
    "# preprocessing\n",
    "from sklearn.preprocessing import LabelEncoder\n",
    "\n",
    "# model selection\n",
    "from sklearn.model_selection import train_test_split\n",
    "from sklearn.model_selection import GridSearchCV\n",
    "\n",
    "# SMOTe\n",
    "from imblearn.over_sampling import SMOTE\n",
    "\n",
    "# models\n",
    "from sklearn.linear_model import LogisticRegression\n",
    "from sklearn.tree import DecisionTreeClassifier \n",
    "\n",
    "# metrics\n",
    "from sklearn.metrics import classification_report, confusion_matrix, accuracy_score, average_precision_score, precision_recall_curve \n",
    "from sklearn.metrics import recall_score, roc_curve, roc_auc_score, precision_recall_curve, auc, plot_confusion_matrix\n",
    "\n",
    "# ensemble\n",
    "from xgboost import XGBClassifier\n",
    "\n",
    "# warnings\n",
    "import warnings\n",
    "warnings.filterwarnings(\"ignore\")"
   ]
  },
  {
   "cell_type": "code",
   "execution_count": 2,
   "metadata": {},
   "outputs": [
    {
     "data": {
      "text/plain": [
       "(101180, 23)"
      ]
     },
     "execution_count": 2,
     "metadata": {},
     "output_type": "execute_result"
    }
   ],
   "source": [
    "# reading data\n",
    "df = pd.read_csv('Dataset.txt', sep=\"\\t\", header=0, low_memory=False, dtype={'C':'int'}, index_col='Index')\n",
    "df.shape # 101180 rows x 23 columns\n",
    "# df.columns"
   ]
  },
  {
   "cell_type": "code",
   "execution_count": 3,
   "metadata": {
    "scrolled": true
   },
   "outputs": [
    {
     "data": {
      "text/html": [
       "<div>\n",
       "<style scoped>\n",
       "    .dataframe tbody tr th:only-of-type {\n",
       "        vertical-align: middle;\n",
       "    }\n",
       "\n",
       "    .dataframe tbody tr th {\n",
       "        vertical-align: top;\n",
       "    }\n",
       "\n",
       "    .dataframe thead th {\n",
       "        text-align: right;\n",
       "    }\n",
       "</style>\n",
       "<table border=\"1\" class=\"dataframe\">\n",
       "  <thead>\n",
       "    <tr style=\"text-align: right;\">\n",
       "      <th></th>\n",
       "      <th>F1</th>\n",
       "      <th>F2</th>\n",
       "      <th>F3</th>\n",
       "      <th>F4</th>\n",
       "      <th>F5</th>\n",
       "      <th>F6</th>\n",
       "      <th>F7</th>\n",
       "      <th>F8</th>\n",
       "      <th>F9</th>\n",
       "      <th>F10</th>\n",
       "      <th>F11</th>\n",
       "      <th>F12</th>\n",
       "      <th>F13</th>\n",
       "      <th>F14</th>\n",
       "      <th>F15</th>\n",
       "      <th>F16</th>\n",
       "      <th>F17</th>\n",
       "      <th>F18</th>\n",
       "      <th>F19</th>\n",
       "      <th>F20</th>\n",
       "      <th>F21</th>\n",
       "      <th>F22</th>\n",
       "      <th>C</th>\n",
       "    </tr>\n",
       "    <tr>\n",
       "      <th>Index</th>\n",
       "      <th></th>\n",
       "      <th></th>\n",
       "      <th></th>\n",
       "      <th></th>\n",
       "      <th></th>\n",
       "      <th></th>\n",
       "      <th></th>\n",
       "      <th></th>\n",
       "      <th></th>\n",
       "      <th></th>\n",
       "      <th></th>\n",
       "      <th></th>\n",
       "      <th></th>\n",
       "      <th></th>\n",
       "      <th></th>\n",
       "      <th></th>\n",
       "      <th></th>\n",
       "      <th></th>\n",
       "      <th></th>\n",
       "      <th></th>\n",
       "      <th></th>\n",
       "      <th></th>\n",
       "      <th></th>\n",
       "    </tr>\n",
       "  </thead>\n",
       "  <tbody>\n",
       "    <tr>\n",
       "      <td>1</td>\n",
       "      <td>0.224506</td>\n",
       "      <td>0.500340</td>\n",
       "      <td>0.489860</td>\n",
       "      <td>0.902413</td>\n",
       "      <td>7934</td>\n",
       "      <td>-6970</td>\n",
       "      <td>-5714</td>\n",
       "      <td>9982</td>\n",
       "      <td>-5697</td>\n",
       "      <td>4227810299</td>\n",
       "      <td>-3918676258</td>\n",
       "      <td>316195953</td>\n",
       "      <td>6176861823</td>\n",
       "      <td>-3433637453</td>\n",
       "      <td>10/4/1986</td>\n",
       "      <td>9/6/1992</td>\n",
       "      <td>2</td>\n",
       "      <td>1</td>\n",
       "      <td>706</td>\n",
       "      <td>305</td>\n",
       "      <td>1</td>\n",
       "      <td>2</td>\n",
       "      <td>0</td>\n",
       "    </tr>\n",
       "    <tr>\n",
       "      <td>2</td>\n",
       "      <td>0.321128</td>\n",
       "      <td>0.281119</td>\n",
       "      <td>0.907283</td>\n",
       "      <td>0.772159</td>\n",
       "      <td>-8238</td>\n",
       "      <td>1219</td>\n",
       "      <td>1663</td>\n",
       "      <td>1287</td>\n",
       "      <td>-3658</td>\n",
       "      <td>-1146724819</td>\n",
       "      <td>-6837090439</td>\n",
       "      <td>1378635942</td>\n",
       "      <td>-9031507610</td>\n",
       "      <td>609277486</td>\n",
       "      <td>2/24/1979</td>\n",
       "      <td>1/5/1983</td>\n",
       "      <td>1</td>\n",
       "      <td>1</td>\n",
       "      <td>423</td>\n",
       "      <td>206</td>\n",
       "      <td>18</td>\n",
       "      <td>7</td>\n",
       "      <td>1</td>\n",
       "    </tr>\n",
       "    <tr>\n",
       "      <td>3</td>\n",
       "      <td>0.893441</td>\n",
       "      <td>0.622005</td>\n",
       "      <td>0.998776</td>\n",
       "      <td>0.098386</td>\n",
       "      <td>8540</td>\n",
       "      <td>5266</td>\n",
       "      <td>-9377</td>\n",
       "      <td>-3504</td>\n",
       "      <td>-4511</td>\n",
       "      <td>5947184989</td>\n",
       "      <td>6881163164</td>\n",
       "      <td>-9921889287</td>\n",
       "      <td>-5610051842</td>\n",
       "      <td>-8977995005</td>\n",
       "      <td>1/12/1989</td>\n",
       "      <td>11/22/1986</td>\n",
       "      <td>2</td>\n",
       "      <td>1</td>\n",
       "      <td>703</td>\n",
       "      <td>315</td>\n",
       "      <td>1</td>\n",
       "      <td>4</td>\n",
       "      <td>0</td>\n",
       "    </tr>\n",
       "    <tr>\n",
       "      <td>4</td>\n",
       "      <td>0.320641</td>\n",
       "      <td>0.957234</td>\n",
       "      <td>0.346000</td>\n",
       "      <td>0.646479</td>\n",
       "      <td>-7772</td>\n",
       "      <td>-383</td>\n",
       "      <td>9681</td>\n",
       "      <td>-8661</td>\n",
       "      <td>3474</td>\n",
       "      <td>-5724795826</td>\n",
       "      <td>-6014104498</td>\n",
       "      <td>6550322883</td>\n",
       "      <td>-4697085930</td>\n",
       "      <td>4868760308</td>\n",
       "      <td>2/18/1982</td>\n",
       "      <td>6/10/1992</td>\n",
       "      <td>1</td>\n",
       "      <td>1</td>\n",
       "      <td>122</td>\n",
       "      <td>304</td>\n",
       "      <td>15</td>\n",
       "      <td>1</td>\n",
       "      <td>0</td>\n",
       "    </tr>\n",
       "    <tr>\n",
       "      <td>5</td>\n",
       "      <td>0.475961</td>\n",
       "      <td>0.623008</td>\n",
       "      <td>0.544988</td>\n",
       "      <td>0.159709</td>\n",
       "      <td>1571</td>\n",
       "      <td>-8039</td>\n",
       "      <td>-7961</td>\n",
       "      <td>-2385</td>\n",
       "      <td>4407</td>\n",
       "      <td>-3097637172</td>\n",
       "      <td>-9755731483</td>\n",
       "      <td>759031103</td>\n",
       "      <td>9984692447</td>\n",
       "      <td>9757408267</td>\n",
       "      <td>4/10/1987</td>\n",
       "      <td>10/19/1985</td>\n",
       "      <td>1</td>\n",
       "      <td>1</td>\n",
       "      <td>486</td>\n",
       "      <td>240</td>\n",
       "      <td>1</td>\n",
       "      <td>1</td>\n",
       "      <td>0</td>\n",
       "    </tr>\n",
       "  </tbody>\n",
       "</table>\n",
       "</div>"
      ],
      "text/plain": [
       "             F1        F2        F3        F4    F5    F6    F7    F8    F9  \\\n",
       "Index                                                                         \n",
       "1      0.224506  0.500340  0.489860  0.902413  7934 -6970 -5714  9982 -5697   \n",
       "2      0.321128  0.281119  0.907283  0.772159 -8238  1219  1663  1287 -3658   \n",
       "3      0.893441  0.622005  0.998776  0.098386  8540  5266 -9377 -3504 -4511   \n",
       "4      0.320641  0.957234  0.346000  0.646479 -7772  -383  9681 -8661  3474   \n",
       "5      0.475961  0.623008  0.544988  0.159709  1571 -8039 -7961 -2385  4407   \n",
       "\n",
       "              F10         F11         F12         F13         F14        F15  \\\n",
       "Index                                                                          \n",
       "1      4227810299 -3918676258   316195953  6176861823 -3433637453  10/4/1986   \n",
       "2     -1146724819 -6837090439  1378635942 -9031507610   609277486  2/24/1979   \n",
       "3      5947184989  6881163164 -9921889287 -5610051842 -8977995005  1/12/1989   \n",
       "4     -5724795826 -6014104498  6550322883 -4697085930  4868760308  2/18/1982   \n",
       "5     -3097637172 -9755731483   759031103  9984692447  9757408267  4/10/1987   \n",
       "\n",
       "              F16  F17  F18  F19  F20  F21  F22  C  \n",
       "Index                                               \n",
       "1        9/6/1992    2    1  706  305    1    2  0  \n",
       "2        1/5/1983    1    1  423  206   18    7  1  \n",
       "3      11/22/1986    2    1  703  315    1    4  0  \n",
       "4       6/10/1992    1    1  122  304   15    1  0  \n",
       "5      10/19/1985    1    1  486  240    1    1  0  "
      ]
     },
     "execution_count": 3,
     "metadata": {},
     "output_type": "execute_result"
    }
   ],
   "source": [
    "# setting max display of table to avoid truncation\n",
    "pd.options.display.max_columns = None\n",
    "pd.options.display.max_rows = None\n",
    "\n",
    "df.head()"
   ]
  },
  {
   "cell_type": "markdown",
   "metadata": {},
   "source": [
    "\n",
    "#### Learnings:\n",
    "\n",
    "__F1 F2 F3 F4__          are numbers lying from 0 to 1 <br>\n",
    "__F5 F6 F7 F8 F9__       are 4 digit integers <br>\n",
    "__F10 F11 F12 F13 F14__  are large integers <br>\n",
    "__F15 F16__              are dates<br>\n",
    "__F17 F18 F21 F22__      are categorical features<br>\n",
    "__F19 F20__              are 3 digit numbers<br>\n",
    "\n",
    "#### Assumptions:\n",
    "\n",
    "__0__ is product __not__ purchased <br>\n",
    "__1__ is product purchased\n"
   ]
  },
  {
   "cell_type": "code",
   "execution_count": 4,
   "metadata": {},
   "outputs": [
    {
     "data": {
      "text/html": [
       "<div>\n",
       "<style scoped>\n",
       "    .dataframe tbody tr th:only-of-type {\n",
       "        vertical-align: middle;\n",
       "    }\n",
       "\n",
       "    .dataframe tbody tr th {\n",
       "        vertical-align: top;\n",
       "    }\n",
       "\n",
       "    .dataframe thead th {\n",
       "        text-align: right;\n",
       "    }\n",
       "</style>\n",
       "<table border=\"1\" class=\"dataframe\">\n",
       "  <thead>\n",
       "    <tr style=\"text-align: right;\">\n",
       "      <th></th>\n",
       "      <th>F1</th>\n",
       "      <th>F2</th>\n",
       "      <th>F3</th>\n",
       "      <th>F4</th>\n",
       "      <th>F5</th>\n",
       "      <th>F6</th>\n",
       "      <th>F7</th>\n",
       "      <th>F8</th>\n",
       "      <th>F9</th>\n",
       "      <th>F10</th>\n",
       "      <th>F11</th>\n",
       "      <th>F12</th>\n",
       "      <th>F13</th>\n",
       "      <th>F14</th>\n",
       "      <th>F15</th>\n",
       "      <th>F16</th>\n",
       "      <th>F17</th>\n",
       "      <th>F18</th>\n",
       "      <th>F19</th>\n",
       "      <th>F20</th>\n",
       "      <th>F21</th>\n",
       "      <th>F22</th>\n",
       "      <th>C</th>\n",
       "    </tr>\n",
       "  </thead>\n",
       "  <tbody>\n",
       "    <tr>\n",
       "      <td>Total</td>\n",
       "      <td>0</td>\n",
       "      <td>0</td>\n",
       "      <td>0</td>\n",
       "      <td>0</td>\n",
       "      <td>0</td>\n",
       "      <td>0</td>\n",
       "      <td>0</td>\n",
       "      <td>0</td>\n",
       "      <td>0</td>\n",
       "      <td>0</td>\n",
       "      <td>0</td>\n",
       "      <td>0</td>\n",
       "      <td>0</td>\n",
       "      <td>0</td>\n",
       "      <td>0</td>\n",
       "      <td>0</td>\n",
       "      <td>0</td>\n",
       "      <td>0</td>\n",
       "      <td>0</td>\n",
       "      <td>0</td>\n",
       "      <td>0</td>\n",
       "      <td>0</td>\n",
       "      <td>0</td>\n",
       "    </tr>\n",
       "    <tr>\n",
       "      <td>Percent</td>\n",
       "      <td>0</td>\n",
       "      <td>0</td>\n",
       "      <td>0</td>\n",
       "      <td>0</td>\n",
       "      <td>0</td>\n",
       "      <td>0</td>\n",
       "      <td>0</td>\n",
       "      <td>0</td>\n",
       "      <td>0</td>\n",
       "      <td>0</td>\n",
       "      <td>0</td>\n",
       "      <td>0</td>\n",
       "      <td>0</td>\n",
       "      <td>0</td>\n",
       "      <td>0</td>\n",
       "      <td>0</td>\n",
       "      <td>0</td>\n",
       "      <td>0</td>\n",
       "      <td>0</td>\n",
       "      <td>0</td>\n",
       "      <td>0</td>\n",
       "      <td>0</td>\n",
       "      <td>0</td>\n",
       "    </tr>\n",
       "    <tr>\n",
       "      <td>Types</td>\n",
       "      <td>float64</td>\n",
       "      <td>float64</td>\n",
       "      <td>float64</td>\n",
       "      <td>float64</td>\n",
       "      <td>int64</td>\n",
       "      <td>int64</td>\n",
       "      <td>int64</td>\n",
       "      <td>int64</td>\n",
       "      <td>int64</td>\n",
       "      <td>int64</td>\n",
       "      <td>int64</td>\n",
       "      <td>int64</td>\n",
       "      <td>int64</td>\n",
       "      <td>int64</td>\n",
       "      <td>object</td>\n",
       "      <td>object</td>\n",
       "      <td>int64</td>\n",
       "      <td>int64</td>\n",
       "      <td>int64</td>\n",
       "      <td>int64</td>\n",
       "      <td>int64</td>\n",
       "      <td>int64</td>\n",
       "      <td>int32</td>\n",
       "    </tr>\n",
       "  </tbody>\n",
       "</table>\n",
       "</div>"
      ],
      "text/plain": [
       "              F1       F2       F3       F4     F5     F6     F7     F8  \\\n",
       "Total          0        0        0        0      0      0      0      0   \n",
       "Percent        0        0        0        0      0      0      0      0   \n",
       "Types    float64  float64  float64  float64  int64  int64  int64  int64   \n",
       "\n",
       "            F9    F10    F11    F12    F13    F14     F15     F16    F17  \\\n",
       "Total        0      0      0      0      0      0       0       0      0   \n",
       "Percent      0      0      0      0      0      0       0       0      0   \n",
       "Types    int64  int64  int64  int64  int64  int64  object  object  int64   \n",
       "\n",
       "           F18    F19    F20    F21    F22      C  \n",
       "Total        0      0      0      0      0      0  \n",
       "Percent      0      0      0      0      0      0  \n",
       "Types    int64  int64  int64  int64  int64  int32  "
      ]
     },
     "execution_count": 4,
     "metadata": {},
     "output_type": "execute_result"
    }
   ],
   "source": [
    "# Check for null values if any\n",
    "\n",
    "# This method shows the count of null values, percent and dataTypes\n",
    "\n",
    "def missing_data(data):\n",
    "    total = data.isnull().sum()\n",
    "    percent = (data.isnull().sum()/data.isnull().count()*100)\n",
    "    tt = pd.concat([total, percent], axis=1, keys=['Total', 'Percent'])\n",
    "    types = []\n",
    "    \n",
    "    for col in data.columns:\n",
    "        dtype = str(data[col].dtype)\n",
    "        types.append(dtype)\n",
    "        \n",
    "    tt['Types'] = types\n",
    "    return(np.transpose(tt))\n",
    "\n",
    "missing_data(df)"
   ]
  },
  {
   "cell_type": "markdown",
   "metadata": {},
   "source": [
    "#####  Result: We did not find any null values for the columns present in the dataset"
   ]
  },
  {
   "cell_type": "code",
   "execution_count": 5,
   "metadata": {},
   "outputs": [
    {
     "data": {
      "text/html": [
       "<div>\n",
       "<style scoped>\n",
       "    .dataframe tbody tr th:only-of-type {\n",
       "        vertical-align: middle;\n",
       "    }\n",
       "\n",
       "    .dataframe tbody tr th {\n",
       "        vertical-align: top;\n",
       "    }\n",
       "\n",
       "    .dataframe thead th {\n",
       "        text-align: right;\n",
       "    }\n",
       "</style>\n",
       "<table border=\"1\" class=\"dataframe\">\n",
       "  <thead>\n",
       "    <tr style=\"text-align: right;\">\n",
       "      <th></th>\n",
       "      <th>F1</th>\n",
       "      <th>F2</th>\n",
       "      <th>F3</th>\n",
       "      <th>F4</th>\n",
       "      <th>F5</th>\n",
       "      <th>F6</th>\n",
       "      <th>F7</th>\n",
       "      <th>F8</th>\n",
       "      <th>F9</th>\n",
       "      <th>F10</th>\n",
       "      <th>F11</th>\n",
       "      <th>F12</th>\n",
       "      <th>F13</th>\n",
       "      <th>F14</th>\n",
       "      <th>F17</th>\n",
       "      <th>F18</th>\n",
       "      <th>F19</th>\n",
       "      <th>F20</th>\n",
       "      <th>F21</th>\n",
       "      <th>F22</th>\n",
       "      <th>C</th>\n",
       "    </tr>\n",
       "  </thead>\n",
       "  <tbody>\n",
       "    <tr>\n",
       "      <td>count</td>\n",
       "      <td>101180.000000</td>\n",
       "      <td>101180.000000</td>\n",
       "      <td>101180.000000</td>\n",
       "      <td>101180.000000</td>\n",
       "      <td>101180.000000</td>\n",
       "      <td>101180.000000</td>\n",
       "      <td>101180.000000</td>\n",
       "      <td>101180.000000</td>\n",
       "      <td>101180.000000</td>\n",
       "      <td>1.011800e+05</td>\n",
       "      <td>1.011800e+05</td>\n",
       "      <td>1.011800e+05</td>\n",
       "      <td>1.011800e+05</td>\n",
       "      <td>1.011800e+05</td>\n",
       "      <td>101180.000000</td>\n",
       "      <td>101180.000000</td>\n",
       "      <td>101180.000000</td>\n",
       "      <td>101180.000000</td>\n",
       "      <td>101180.000000</td>\n",
       "      <td>101180.000000</td>\n",
       "      <td>101180.000000</td>\n",
       "    </tr>\n",
       "    <tr>\n",
       "      <td>mean</td>\n",
       "      <td>0.502348</td>\n",
       "      <td>0.501497</td>\n",
       "      <td>0.499886</td>\n",
       "      <td>0.499839</td>\n",
       "      <td>-29.742617</td>\n",
       "      <td>1.511000</td>\n",
       "      <td>7.939118</td>\n",
       "      <td>16.434147</td>\n",
       "      <td>9.927812</td>\n",
       "      <td>1.869749e+07</td>\n",
       "      <td>-7.052456e+06</td>\n",
       "      <td>6.921685e+06</td>\n",
       "      <td>1.127538e+07</td>\n",
       "      <td>-5.198163e+07</td>\n",
       "      <td>1.339593</td>\n",
       "      <td>1.335027</td>\n",
       "      <td>387.181479</td>\n",
       "      <td>387.333999</td>\n",
       "      <td>4.588031</td>\n",
       "      <td>4.598567</td>\n",
       "      <td>0.245375</td>\n",
       "    </tr>\n",
       "    <tr>\n",
       "      <td>std</td>\n",
       "      <td>0.288058</td>\n",
       "      <td>0.289017</td>\n",
       "      <td>0.288875</td>\n",
       "      <td>0.288729</td>\n",
       "      <td>5781.829379</td>\n",
       "      <td>5796.594007</td>\n",
       "      <td>5765.581875</td>\n",
       "      <td>5782.805211</td>\n",
       "      <td>5771.004738</td>\n",
       "      <td>5.769064e+09</td>\n",
       "      <td>5.779111e+09</td>\n",
       "      <td>5.771750e+09</td>\n",
       "      <td>5.786659e+09</td>\n",
       "      <td>5.782358e+09</td>\n",
       "      <td>0.894065</td>\n",
       "      <td>0.882435</td>\n",
       "      <td>235.939585</td>\n",
       "      <td>235.374285</td>\n",
       "      <td>4.775671</td>\n",
       "      <td>4.776494</td>\n",
       "      <td>0.430311</td>\n",
       "    </tr>\n",
       "    <tr>\n",
       "      <td>min</td>\n",
       "      <td>0.000018</td>\n",
       "      <td>0.000004</td>\n",
       "      <td>0.000002</td>\n",
       "      <td>0.000006</td>\n",
       "      <td>-10000.000000</td>\n",
       "      <td>-10000.000000</td>\n",
       "      <td>-10000.000000</td>\n",
       "      <td>-10000.000000</td>\n",
       "      <td>-10000.000000</td>\n",
       "      <td>-9.999816e+09</td>\n",
       "      <td>-9.999804e+09</td>\n",
       "      <td>-9.999754e+09</td>\n",
       "      <td>-9.999852e+09</td>\n",
       "      <td>-9.999767e+09</td>\n",
       "      <td>1.000000</td>\n",
       "      <td>1.000000</td>\n",
       "      <td>1.000000</td>\n",
       "      <td>1.000000</td>\n",
       "      <td>1.000000</td>\n",
       "      <td>1.000000</td>\n",
       "      <td>0.000000</td>\n",
       "    </tr>\n",
       "    <tr>\n",
       "      <td>25%</td>\n",
       "      <td>0.253819</td>\n",
       "      <td>0.251115</td>\n",
       "      <td>0.248818</td>\n",
       "      <td>0.250501</td>\n",
       "      <td>-5045.000000</td>\n",
       "      <td>-5012.000000</td>\n",
       "      <td>-4979.000000</td>\n",
       "      <td>-4988.000000</td>\n",
       "      <td>-4992.250000</td>\n",
       "      <td>-4.966961e+09</td>\n",
       "      <td>-4.994511e+09</td>\n",
       "      <td>-4.991278e+09</td>\n",
       "      <td>-5.027003e+09</td>\n",
       "      <td>-5.070403e+09</td>\n",
       "      <td>1.000000</td>\n",
       "      <td>1.000000</td>\n",
       "      <td>187.000000</td>\n",
       "      <td>187.000000</td>\n",
       "      <td>1.000000</td>\n",
       "      <td>1.000000</td>\n",
       "      <td>0.000000</td>\n",
       "    </tr>\n",
       "    <tr>\n",
       "      <td>50%</td>\n",
       "      <td>0.501802</td>\n",
       "      <td>0.501095</td>\n",
       "      <td>0.499820</td>\n",
       "      <td>0.501387</td>\n",
       "      <td>-46.000000</td>\n",
       "      <td>-11.500000</td>\n",
       "      <td>16.500000</td>\n",
       "      <td>60.000000</td>\n",
       "      <td>22.500000</td>\n",
       "      <td>4.346691e+07</td>\n",
       "      <td>-5.477172e+07</td>\n",
       "      <td>4.277384e+07</td>\n",
       "      <td>9.416236e+06</td>\n",
       "      <td>-8.816174e+07</td>\n",
       "      <td>1.000000</td>\n",
       "      <td>1.000000</td>\n",
       "      <td>374.000000</td>\n",
       "      <td>375.000000</td>\n",
       "      <td>3.000000</td>\n",
       "      <td>3.000000</td>\n",
       "      <td>0.000000</td>\n",
       "    </tr>\n",
       "    <tr>\n",
       "      <td>75%</td>\n",
       "      <td>0.753598</td>\n",
       "      <td>0.752404</td>\n",
       "      <td>0.750281</td>\n",
       "      <td>0.748803</td>\n",
       "      <td>4978.000000</td>\n",
       "      <td>5050.000000</td>\n",
       "      <td>4962.000000</td>\n",
       "      <td>5021.000000</td>\n",
       "      <td>5020.000000</td>\n",
       "      <td>5.019440e+09</td>\n",
       "      <td>4.994296e+09</td>\n",
       "      <td>5.008238e+09</td>\n",
       "      <td>5.032947e+09</td>\n",
       "      <td>4.947133e+09</td>\n",
       "      <td>1.000000</td>\n",
       "      <td>1.000000</td>\n",
       "      <td>560.000000</td>\n",
       "      <td>561.000000</td>\n",
       "      <td>7.000000</td>\n",
       "      <td>7.000000</td>\n",
       "      <td>0.000000</td>\n",
       "    </tr>\n",
       "    <tr>\n",
       "      <td>max</td>\n",
       "      <td>0.999986</td>\n",
       "      <td>0.999990</td>\n",
       "      <td>0.999985</td>\n",
       "      <td>0.999977</td>\n",
       "      <td>10000.000000</td>\n",
       "      <td>10000.000000</td>\n",
       "      <td>10000.000000</td>\n",
       "      <td>10000.000000</td>\n",
       "      <td>10000.000000</td>\n",
       "      <td>9.999497e+09</td>\n",
       "      <td>9.999897e+09</td>\n",
       "      <td>9.999555e+09</td>\n",
       "      <td>9.999951e+09</td>\n",
       "      <td>9.999997e+09</td>\n",
       "      <td>6.000000</td>\n",
       "      <td>6.000000</td>\n",
       "      <td>901.000000</td>\n",
       "      <td>901.000000</td>\n",
       "      <td>21.000000</td>\n",
       "      <td>21.000000</td>\n",
       "      <td>1.000000</td>\n",
       "    </tr>\n",
       "  </tbody>\n",
       "</table>\n",
       "</div>"
      ],
      "text/plain": [
       "                  F1             F2             F3             F4  \\\n",
       "count  101180.000000  101180.000000  101180.000000  101180.000000   \n",
       "mean        0.502348       0.501497       0.499886       0.499839   \n",
       "std         0.288058       0.289017       0.288875       0.288729   \n",
       "min         0.000018       0.000004       0.000002       0.000006   \n",
       "25%         0.253819       0.251115       0.248818       0.250501   \n",
       "50%         0.501802       0.501095       0.499820       0.501387   \n",
       "75%         0.753598       0.752404       0.750281       0.748803   \n",
       "max         0.999986       0.999990       0.999985       0.999977   \n",
       "\n",
       "                  F5             F6             F7             F8  \\\n",
       "count  101180.000000  101180.000000  101180.000000  101180.000000   \n",
       "mean      -29.742617       1.511000       7.939118      16.434147   \n",
       "std      5781.829379    5796.594007    5765.581875    5782.805211   \n",
       "min    -10000.000000  -10000.000000  -10000.000000  -10000.000000   \n",
       "25%     -5045.000000   -5012.000000   -4979.000000   -4988.000000   \n",
       "50%       -46.000000     -11.500000      16.500000      60.000000   \n",
       "75%      4978.000000    5050.000000    4962.000000    5021.000000   \n",
       "max     10000.000000   10000.000000   10000.000000   10000.000000   \n",
       "\n",
       "                  F9           F10           F11           F12           F13  \\\n",
       "count  101180.000000  1.011800e+05  1.011800e+05  1.011800e+05  1.011800e+05   \n",
       "mean        9.927812  1.869749e+07 -7.052456e+06  6.921685e+06  1.127538e+07   \n",
       "std      5771.004738  5.769064e+09  5.779111e+09  5.771750e+09  5.786659e+09   \n",
       "min    -10000.000000 -9.999816e+09 -9.999804e+09 -9.999754e+09 -9.999852e+09   \n",
       "25%     -4992.250000 -4.966961e+09 -4.994511e+09 -4.991278e+09 -5.027003e+09   \n",
       "50%        22.500000  4.346691e+07 -5.477172e+07  4.277384e+07  9.416236e+06   \n",
       "75%      5020.000000  5.019440e+09  4.994296e+09  5.008238e+09  5.032947e+09   \n",
       "max     10000.000000  9.999497e+09  9.999897e+09  9.999555e+09  9.999951e+09   \n",
       "\n",
       "                F14            F17            F18            F19  \\\n",
       "count  1.011800e+05  101180.000000  101180.000000  101180.000000   \n",
       "mean  -5.198163e+07       1.339593       1.335027     387.181479   \n",
       "std    5.782358e+09       0.894065       0.882435     235.939585   \n",
       "min   -9.999767e+09       1.000000       1.000000       1.000000   \n",
       "25%   -5.070403e+09       1.000000       1.000000     187.000000   \n",
       "50%   -8.816174e+07       1.000000       1.000000     374.000000   \n",
       "75%    4.947133e+09       1.000000       1.000000     560.000000   \n",
       "max    9.999997e+09       6.000000       6.000000     901.000000   \n",
       "\n",
       "                 F20            F21            F22              C  \n",
       "count  101180.000000  101180.000000  101180.000000  101180.000000  \n",
       "mean      387.333999       4.588031       4.598567       0.245375  \n",
       "std       235.374285       4.775671       4.776494       0.430311  \n",
       "min         1.000000       1.000000       1.000000       0.000000  \n",
       "25%       187.000000       1.000000       1.000000       0.000000  \n",
       "50%       375.000000       3.000000       3.000000       0.000000  \n",
       "75%       561.000000       7.000000       7.000000       0.000000  \n",
       "max       901.000000      21.000000      21.000000       1.000000  "
      ]
     },
     "execution_count": 5,
     "metadata": {},
     "output_type": "execute_result"
    }
   ],
   "source": [
    "# We find that most of the data is skewed\n",
    "df.describe()"
   ]
  },
  {
   "cell_type": "code",
   "execution_count": 6,
   "metadata": {},
   "outputs": [
    {
     "data": {
      "text/plain": [
       "F1    -0.005717\n",
       "F2    -0.005972\n",
       "F3     0.000252\n",
       "F4    -0.000546\n",
       "F5     0.008295\n",
       "F6    -0.001068\n",
       "F7    -0.001071\n",
       "F8    -0.008812\n",
       "F9    -0.002941\n",
       "F10   -0.003904\n",
       "F11    0.009654\n",
       "F12   -0.004498\n",
       "F13   -0.000964\n",
       "F14    0.009208\n",
       "F17    3.615808\n",
       "F18    3.627241\n",
       "F19    0.223636\n",
       "F20    0.216100\n",
       "F21    1.679967\n",
       "F22    1.680833\n",
       "C      1.183471\n",
       "dtype: float64"
      ]
     },
     "execution_count": 6,
     "metadata": {},
     "output_type": "execute_result"
    }
   ],
   "source": [
    "df.skew(axis = 0, skipna = True) \n",
    "# If skewness is less than -1 or greater than 1, the distribution is highly skewed. \n",
    "# If skewness is between -1 and -0.5 or between 0.5 and 1, the distribution is moderately skewed. \n",
    "# If skewness is between -0.5 and 0.5, the distribution is approximately symmetric."
   ]
  },
  {
   "cell_type": "code",
   "execution_count": 7,
   "metadata": {},
   "outputs": [
    {
     "data": {
      "text/plain": [
       "<Figure size 432x288 with 0 Axes>"
      ]
     },
     "metadata": {},
     "output_type": "display_data"
    },
    {
     "data": {
      "image/png": "[encoded data removed]",
      "text/plain": [
       "<Figure size 1296x1584 with 28 Axes>"
      ]
     },
     "metadata": {},
     "output_type": "display_data"
    }
   ],
   "source": [
    "# We will try to visualise skewness here\n",
    "def plot_feature_distribution(df1, df2, label1, label2, features):\n",
    "    i = 0\n",
    "    sns.set_style('whitegrid')\n",
    "    plt.figure()\n",
    "    fig, ax = plt.subplots(7,4,figsize=(18,22))\n",
    "\n",
    "    for feature in features:\n",
    "        if feature in ('F15', 'F16'):\n",
    "            pass\n",
    "        else:\n",
    "            \n",
    "            i += 1\n",
    "            plt.subplot(7,4,i)\n",
    "\n",
    "            sns.distplot(df1[feature], hist=True, label=label1)\n",
    "            sns.distplot(df2[feature], hist=True, label=label2)\n",
    "\n",
    "            plt.xlabel(feature, fontsize=9)\n",
    "            locs, labels = plt.xticks()\n",
    "\n",
    "            plt.tick_params(axis='x', which='major', labelsize=6, pad=-6)\n",
    "            plt.tick_params(axis='y', which='major', labelsize=6)\n",
    "    \n",
    "    plt.show()\n",
    "\n",
    "\n",
    "t0 = df.loc[df['C'] == 0]\n",
    "t1 = df.loc[df['C'] == 1]\n",
    "features = df.columns.values\n",
    "\n",
    "plot_feature_distribution(t0, t1, '0', '1', features)"
   ]
  },
  {
   "cell_type": "markdown",
   "metadata": {},
   "source": [
    "##### We observe that all numerical features \n",
    "##### except F17, F18, F19, F20, F21, F22 \n",
    "##### show uniform distribution "
   ]
  },
  {
   "cell_type": "code",
   "execution_count": 8,
   "metadata": {},
   "outputs": [],
   "source": [
    "# converting date columns to date type\n",
    "df['F15'] = pd.to_datetime(df['F15']) \n",
    "df['F16'] = pd.to_datetime(df['F16']) "
   ]
  },
  {
   "cell_type": "code",
   "execution_count": 9,
   "metadata": {},
   "outputs": [
    {
     "name": "stdout",
     "output_type": "stream",
     "text": [
      "27909 73271\n"
     ]
    },
    {
     "data": {
      "text/plain": [
       "True"
      ]
     },
     "execution_count": 9,
     "metadata": {},
     "output_type": "execute_result"
    }
   ],
   "source": [
    "# checking if F15 and F16 are start or end date\n",
    "# is F15 always before F16 or vice versa ?\n",
    "df15gt16 = df[df['F15'] >= df['F16']]\n",
    "df15lt16 = df[df['F15'] < df['F16']]\n",
    "\n",
    "print(len(df15gt16), len(df15lt16))\n",
    "# 27909 73271\n",
    "# hence the date features are not correponding to each other\n",
    "\n",
    "# Ensuring we did not miss any record by doing the bifurcation\n",
    "len(df15gt16) + len(df15lt16) == len(df)\n"
   ]
  },
  {
   "cell_type": "code",
   "execution_count": 10,
   "metadata": {},
   "outputs": [
    {
     "data": {
      "text/html": [
       "<div>\n",
       "<style scoped>\n",
       "    .dataframe tbody tr th:only-of-type {\n",
       "        vertical-align: middle;\n",
       "    }\n",
       "\n",
       "    .dataframe tbody tr th {\n",
       "        vertical-align: top;\n",
       "    }\n",
       "\n",
       "    .dataframe thead th {\n",
       "        text-align: right;\n",
       "    }\n",
       "</style>\n",
       "<table border=\"1\" class=\"dataframe\">\n",
       "  <thead>\n",
       "    <tr style=\"text-align: right;\">\n",
       "      <th></th>\n",
       "      <th>F15</th>\n",
       "      <th>C</th>\n",
       "    </tr>\n",
       "    <tr>\n",
       "      <th>Index</th>\n",
       "      <th></th>\n",
       "      <th></th>\n",
       "    </tr>\n",
       "  </thead>\n",
       "  <tbody>\n",
       "    <tr>\n",
       "      <td>1</td>\n",
       "      <td>5</td>\n",
       "      <td>0</td>\n",
       "    </tr>\n",
       "    <tr>\n",
       "      <td>2</td>\n",
       "      <td>5</td>\n",
       "      <td>1</td>\n",
       "    </tr>\n",
       "    <tr>\n",
       "      <td>3</td>\n",
       "      <td>3</td>\n",
       "      <td>0</td>\n",
       "    </tr>\n",
       "    <tr>\n",
       "      <td>4</td>\n",
       "      <td>3</td>\n",
       "      <td>0</td>\n",
       "    </tr>\n",
       "    <tr>\n",
       "      <td>5</td>\n",
       "      <td>4</td>\n",
       "      <td>0</td>\n",
       "    </tr>\n",
       "  </tbody>\n",
       "</table>\n",
       "</div>"
      ],
      "text/plain": [
       "       F15  C\n",
       "Index        \n",
       "1        5  0\n",
       "2        5  1\n",
       "3        3  0\n",
       "4        3  0\n",
       "5        4  0"
      ]
     },
     "execution_count": 10,
     "metadata": {},
     "output_type": "execute_result"
    }
   ],
   "source": [
    "# Univariate Analysis\n",
    "\n",
    "# weekday analysis\n",
    "\n",
    "weekday_f15 = pd.concat([df['F15'].dt.dayofweek, df['C']],axis=1)\n",
    "weekday_f16 = pd.concat([df['F16'].dt.dayofweek, df['C']],axis=1)\n",
    "weekday_f15.head()"
   ]
  },
  {
   "cell_type": "code",
   "execution_count": 11,
   "metadata": {},
   "outputs": [
    {
     "data": {
      "image/png": "[encoded data removed]",
      "text/plain": [
       "<Figure size 1080x360 with 2 Axes>"
      ]
     },
     "metadata": {},
     "output_type": "display_data"
    }
   ],
   "source": [
    "# is the value of target affected by weekday ?\n",
    "fig = plt.figure(figsize=(15, 5))\n",
    "plt.subplot(1, 2, 1)\n",
    "plt.title(\"count of 1\\'s on weekdays\")\n",
    "sns.distplot(weekday_f15[weekday_f15.C==1]['F15'], hist_kws={'color':'orange',\n",
    "                                                     'edgecolor':'black',\n",
    "                                                     'linewidth':0.5, \n",
    "                                                     'linestyle':'-', \n",
    "                                                     'alpha':0.9}, kde=False)\n",
    "locs, labels = plt.xticks()\n",
    "x_ticks = []\n",
    "new_xticks = [\"\", \"sun\", \"mon\", \"tue\", \"wed\", \"thu\", \"fri\", \"sat\"]\n",
    "plt.xticks(locs, new_xticks, rotation=45, horizontalalignment='right')\n",
    "\n",
    "plt.subplot(1,2,2)\n",
    "plt.title(\"count of 0\\'s on weekdays\")\n",
    "sns.distplot(weekday_f15[weekday_f15.C==0]['F15'], hist_kws = {'color':'blue', \n",
    "                                                      'edgecolor':'black',\n",
    "                                                       'linewidth':0.5, \n",
    "                                                       'linestyle':'-', \n",
    "                                                       'alpha':0.9}, kde=False)\n",
    "locs, labels=plt.xticks()\n",
    "x_ticks = []\n",
    "new_xticks = [\"\", \"sun\", \"mon\", \"tue\", \"wed\", \"thu\", \"fri\", \"sat\"]\n",
    "plt.xticks(locs, new_xticks, rotation=45, horizontalalignment='right')\n",
    "plt.show()"
   ]
  },
  {
   "cell_type": "code",
   "execution_count": 12,
   "metadata": {},
   "outputs": [
    {
     "data": {
      "image/png": "[encoded data removed]",
      "text/plain": [
       "<Figure size 1080x360 with 2 Axes>"
      ]
     },
     "metadata": {},
     "output_type": "display_data"
    }
   ],
   "source": [
    "# we check the same thing for f16\n",
    "fig = plt.figure(figsize=(15, 5))\n",
    "plt.subplot(1, 2, 1)\n",
    "plt.title(\"count of 1\\'s on weekdays\")\n",
    "sns.distplot(weekday_f16[weekday_f16.C==1]['F16'], hist_kws={'color':'orange',\n",
    "                                                     'edgecolor':'black',\n",
    "                                                     'linewidth':0.5, \n",
    "                                                     'linestyle':'-', \n",
    "                                                     'alpha':0.9}, kde=False)\n",
    "locs, labels = plt.xticks()\n",
    "x_ticks = []\n",
    "new_xticks = [\"\", \"sun\", \"mon\", \"tue\", \"wed\", \"thu\", \"fri\", \"sat\"]\n",
    "plt.xticks(locs, new_xticks, rotation=45, horizontalalignment='right')\n",
    "\n",
    "plt.subplot(1,2,2)\n",
    "plt.title(\"count of 0\\'s on weekdays\")\n",
    "sns.distplot(weekday_f16[weekday_f16.C==0]['F16'], hist_kws = {'color':'blue', \n",
    "                                                      'edgecolor':'black',\n",
    "                                                       'linewidth':0.5, \n",
    "                                                       'linestyle':'-', \n",
    "                                                       'alpha':0.9}, kde=False)\n",
    "locs, labels=plt.xticks()\n",
    "x_ticks = []\n",
    "new_xticks = [\"\", \"sun\", \"mon\", \"tue\", \"wed\", \"thu\", \"fri\", \"sat\"]\n",
    "plt.xticks(locs, new_xticks, rotation=45, horizontalalignment='right')\n",
    "plt.show()"
   ]
  },
  {
   "cell_type": "code",
   "execution_count": 13,
   "metadata": {},
   "outputs": [],
   "source": [
    "df['year_f15'] = df['F15'].dt.year\n",
    "df['month_f15'] = df['F15'].dt.month\n",
    "df['week_f15'] = df['F15'].dt.week\n",
    "df['day_f15'] = df['F15'].dt.day_name()\n",
    "\n",
    "le = LabelEncoder()\n",
    "df['month_f15'] = le.fit_transform(df['month_f15'])\n",
    "df['day_f15'] = le.fit_transform(df['day_f15'])\n",
    "\n",
    "df['year_f16'] = df['F16'].dt.year"
   ]
  },
  {
   "cell_type": "markdown",
   "metadata": {},
   "source": []
  },
  {
   "cell_type": "code",
   "execution_count": 14,
   "metadata": {},
   "outputs": [
    {
     "data": {
      "image/png": "[encoded data removed]",
      "text/plain": [
       "<Figure size 1152x432 with 1 Axes>"
      ]
     },
     "metadata": {},
     "output_type": "display_data"
    }
   ],
   "source": [
    "# Distribution of mean and standard deviation\n",
    "plt.figure(figsize=(16,6))\n",
    "features = df.columns.values[2:202]\n",
    "plt.title(\"Distribution of mean values per row in the train and test set\")\n",
    "sns.distplot(df[features].mean(axis=1),color=\"blue\", kde=True,bins=120, label='train')\n",
    "plt.legend()\n",
    "plt.show()"
   ]
  },
  {
   "cell_type": "code",
   "execution_count": 15,
   "metadata": {},
   "outputs": [
    {
     "name": "stdout",
     "output_type": "stream",
     "text": [
      "Proportion:  3.1 :1\n",
      "There is a mild imbalance -- We have 3 records for class 0 for every one record of class 1\n"
     ]
    },
    {
     "data": {
      "image/png": "[encoded data removed]",
      "text/plain": [
       "<Figure size 432x288 with 1 Axes>"
      ]
     },
     "metadata": {},
     "output_type": "display_data"
    }
   ],
   "source": [
    "# Distrbution of the target variable\n",
    "\n",
    "# Variable ‘C’ is specifying whether the \n",
    "# customers bought a specific product or not.\n",
    "\n",
    "sns.countplot(df['C'])\n",
    "target_counts = df.C.value_counts()\n",
    "print(\"Proportion: \", round(target_counts[0] / target_counts[1], 1), \":1\")\n",
    "print(\"There is a mild imbalance -- We have 3 records for class 0 for every one record of class 1\")\n",
    "# class is distributed as 3:1 -- Imbalanced"
   ]
  },
  {
   "cell_type": "code",
   "execution_count": 16,
   "metadata": {},
   "outputs": [
    {
     "data": {
      "text/plain": [
       "Index(['F1', 'F2', 'F3', 'F4', 'F5', 'F6', 'F7', 'F8', 'F9', 'F10', 'F11',\n",
       "       'F12', 'F13', 'F14', 'F15', 'F16', 'F17', 'F18', 'F19', 'F20', 'F21',\n",
       "       'F22', 'C', 'year_f15', 'month_f15', 'week_f15', 'day_f15', 'year_f16'],\n",
       "      dtype='object')"
      ]
     },
     "execution_count": 16,
     "metadata": {},
     "output_type": "execute_result"
    }
   ],
   "source": [
    "df.columns"
   ]
  },
  {
   "cell_type": "code",
   "execution_count": 17,
   "metadata": {},
   "outputs": [
    {
     "data": {
      "image/png": "[encoded data removed]",
      "text/plain": [
       "<Figure size 1080x720 with 2 Axes>"
      ]
     },
     "metadata": {},
     "output_type": "display_data"
    }
   ],
   "source": [
    "# Bivariate Analysis\n",
    "\n",
    "# checking correlation of the dataframe\n",
    "plt.figure(figsize=(15, 10))\n",
    "sns.heatmap(df.corr())\n",
    "plt.show()"
   ]
  },
  {
   "cell_type": "markdown",
   "metadata": {},
   "source": [
    "##### correlation matrix shows that `F17` is moderately correlated  to `F19`\n",
    "##### correlation matrix shows that `F18` is moderately correlated to `F20`"
   ]
  },
  {
   "cell_type": "code",
   "execution_count": 18,
   "metadata": {},
   "outputs": [
    {
     "data": {
      "image/png": "[encoded data removed]",
      "text/plain": [
       "<Figure size 720x432 with 2 Axes>"
      ]
     },
     "metadata": {},
     "output_type": "display_data"
    }
   ],
   "source": [
    "# We can drop either F17, F18 or F19, F20\n",
    "# We will check the relationship of the pairs with C`\n",
    "\n",
    "plt.figure(figsize=(10, 6))\n",
    "sns.heatmap(df[['F17','F18','F19','F20', 'C']].corr()#.abs()\n",
    "            , annot=True)\n",
    "plt.show()"
   ]
  },
  {
   "cell_type": "markdown",
   "metadata": {},
   "source": [
    "##### Although there is not much difference, `F17,F18` pair has a higher negative correlation\n",
    "##### So we will go ahead and drop `F19, F20`. We will hold the variables for now and revisit \n",
    "##### this below "
   ]
  },
  {
   "cell_type": "code",
   "execution_count": 19,
   "metadata": {},
   "outputs": [
    {
     "data": {
      "image/png": "[encoded data removed]",
      "text/plain": [
       "<Figure size 504x360 with 1 Axes>"
      ]
     },
     "metadata": {},
     "output_type": "display_data"
    }
   ],
   "source": [
    "# we will now use chi square test of independence \n",
    "# to check which categorical variables are significant\n",
    "\n",
    "from scipy.stats import chi2_contingency\n",
    "\n",
    "l=[]\n",
    "categorical=['year_f15', 'month_f15', 'week_f15', 'day_f15', 'year_f16','F17','F18','F21','F22']\n",
    "\n",
    "for i in categorical:\n",
    "    pvalue  = chi2_contingency(pd.crosstab(df['C'],df[i]))[1]\n",
    "    l.append(1-pvalue)\n",
    "    \n",
    "plt.figure(figsize=(7,5))\n",
    "sns.barplot(x=l, y=categorical)\n",
    "plt.title('Best Categorical Features')\n",
    "plt.axvline(x=(1-0.05),color='r')\n",
    "plt.show()"
   ]
  },
  {
   "cell_type": "markdown",
   "metadata": {},
   "source": [
    "#### chi square test of independence\n",
    "#### this is showing acceptance of alternative hypothesis, we will be shortlisting the features crossing the line\n",
    "\n",
    "#### Best categorical features which are statistically significant\n",
    "__year_f15 F17 F18 F21 F22__"
   ]
  },
  {
   "cell_type": "code",
   "execution_count": 20,
   "metadata": {},
   "outputs": [
    {
     "data": {
      "text/plain": [
       "['F1',\n",
       " 'F2',\n",
       " 'F3',\n",
       " 'F4',\n",
       " 'F5',\n",
       " 'F6',\n",
       " 'F7',\n",
       " 'F8',\n",
       " 'F9',\n",
       " 'F10',\n",
       " 'F11',\n",
       " 'F12',\n",
       " 'F13',\n",
       " 'F14',\n",
       " 'F19',\n",
       " 'F20']"
      ]
     },
     "execution_count": 20,
     "metadata": {},
     "output_type": "execute_result"
    }
   ],
   "source": [
    "# Numerical features extraction\n",
    "numerical_cols = ['F' + str(i) for i in range(1,15)]\n",
    "numerical_cols.append('F19')\n",
    "numerical_cols.append('F20')\n",
    "\n",
    "numerical_cols"
   ]
  },
  {
   "cell_type": "code",
   "execution_count": 21,
   "metadata": {},
   "outputs": [
    {
     "data": {
      "image/png": "[encoded data removed]",
      "text/plain": [
       "<Figure size 504x504 with 1 Axes>"
      ]
     },
     "metadata": {},
     "output_type": "display_data"
    }
   ],
   "source": [
    "# we will now use t-test on numerical features to observe \n",
    "# if there is any difference between the means of two classes\n",
    "\n",
    "from scipy.stats import ttest_ind\n",
    "\n",
    "p=[]\n",
    "\n",
    "\n",
    "for i in numerical_cols:\n",
    "    df1 = df.groupby(by='C').get_group(0)\n",
    "    df2 = df.groupby(by='C').get_group(1)\n",
    "    \n",
    "    t, pvalue = ttest_ind(df1[i], df2[i])\n",
    "    p.append(1-pvalue)\n",
    "    \n",
    "plt.figure(figsize=(7, 7))\n",
    "sns.barplot(x=p, y=numerical_cols)\n",
    "plt.title('Best Numerical Features')\n",
    "plt.axvline(x=(1-0.05), color='r')\n",
    "plt.xlabel('1-p value')\n",
    "plt.show()\n",
    "\n"
   ]
  },
  {
   "cell_type": "markdown",
   "metadata": {},
   "source": [
    "##### Best numerical features which are statistically significant F2 F4 F10 F19  F20"
   ]
  },
  {
   "cell_type": "markdown",
   "metadata": {},
   "source": [
    "##### null hypothesis: u1 an u2 are not different\n",
    "##### alternate hypothesis: They are different\n",
    "\n",
    "##### significant variable will show greater difference between the means of the two groups\n",
    "##### hence predicitve power of the features crossing the red mark is `significant`"
   ]
  },
  {
   "cell_type": "markdown",
   "metadata": {},
   "source": [
    "#### dropping insigficant features"
   ]
  },
  {
   "cell_type": "code",
   "execution_count": 22,
   "metadata": {},
   "outputs": [
    {
     "data": {
      "text/html": [
       "<div>\n",
       "<style scoped>\n",
       "    .dataframe tbody tr th:only-of-type {\n",
       "        vertical-align: middle;\n",
       "    }\n",
       "\n",
       "    .dataframe tbody tr th {\n",
       "        vertical-align: top;\n",
       "    }\n",
       "\n",
       "    .dataframe thead th {\n",
       "        text-align: right;\n",
       "    }\n",
       "</style>\n",
       "<table border=\"1\" class=\"dataframe\">\n",
       "  <thead>\n",
       "    <tr style=\"text-align: right;\">\n",
       "      <th></th>\n",
       "      <th>F2</th>\n",
       "      <th>F4</th>\n",
       "      <th>F10</th>\n",
       "      <th>F17</th>\n",
       "      <th>F18</th>\n",
       "      <th>F19</th>\n",
       "      <th>F20</th>\n",
       "      <th>F21</th>\n",
       "      <th>F22</th>\n",
       "      <th>C</th>\n",
       "      <th>year_f15</th>\n",
       "    </tr>\n",
       "    <tr>\n",
       "      <th>Index</th>\n",
       "      <th></th>\n",
       "      <th></th>\n",
       "      <th></th>\n",
       "      <th></th>\n",
       "      <th></th>\n",
       "      <th></th>\n",
       "      <th></th>\n",
       "      <th></th>\n",
       "      <th></th>\n",
       "      <th></th>\n",
       "      <th></th>\n",
       "    </tr>\n",
       "  </thead>\n",
       "  <tbody>\n",
       "    <tr>\n",
       "      <td>1</td>\n",
       "      <td>0.500340</td>\n",
       "      <td>0.902413</td>\n",
       "      <td>4227810299</td>\n",
       "      <td>2</td>\n",
       "      <td>1</td>\n",
       "      <td>706</td>\n",
       "      <td>305</td>\n",
       "      <td>1</td>\n",
       "      <td>2</td>\n",
       "      <td>0</td>\n",
       "      <td>1986</td>\n",
       "    </tr>\n",
       "    <tr>\n",
       "      <td>2</td>\n",
       "      <td>0.281119</td>\n",
       "      <td>0.772159</td>\n",
       "      <td>-1146724819</td>\n",
       "      <td>1</td>\n",
       "      <td>1</td>\n",
       "      <td>423</td>\n",
       "      <td>206</td>\n",
       "      <td>18</td>\n",
       "      <td>7</td>\n",
       "      <td>1</td>\n",
       "      <td>1979</td>\n",
       "    </tr>\n",
       "    <tr>\n",
       "      <td>3</td>\n",
       "      <td>0.622005</td>\n",
       "      <td>0.098386</td>\n",
       "      <td>5947184989</td>\n",
       "      <td>2</td>\n",
       "      <td>1</td>\n",
       "      <td>703</td>\n",
       "      <td>315</td>\n",
       "      <td>1</td>\n",
       "      <td>4</td>\n",
       "      <td>0</td>\n",
       "      <td>1989</td>\n",
       "    </tr>\n",
       "    <tr>\n",
       "      <td>4</td>\n",
       "      <td>0.957234</td>\n",
       "      <td>0.646479</td>\n",
       "      <td>-5724795826</td>\n",
       "      <td>1</td>\n",
       "      <td>1</td>\n",
       "      <td>122</td>\n",
       "      <td>304</td>\n",
       "      <td>15</td>\n",
       "      <td>1</td>\n",
       "      <td>0</td>\n",
       "      <td>1982</td>\n",
       "    </tr>\n",
       "    <tr>\n",
       "      <td>5</td>\n",
       "      <td>0.623008</td>\n",
       "      <td>0.159709</td>\n",
       "      <td>-3097637172</td>\n",
       "      <td>1</td>\n",
       "      <td>1</td>\n",
       "      <td>486</td>\n",
       "      <td>240</td>\n",
       "      <td>1</td>\n",
       "      <td>1</td>\n",
       "      <td>0</td>\n",
       "      <td>1987</td>\n",
       "    </tr>\n",
       "  </tbody>\n",
       "</table>\n",
       "</div>"
      ],
      "text/plain": [
       "             F2        F4         F10  F17  F18  F19  F20  F21  F22  C  \\\n",
       "Index                                                                    \n",
       "1      0.500340  0.902413  4227810299    2    1  706  305    1    2  0   \n",
       "2      0.281119  0.772159 -1146724819    1    1  423  206   18    7  1   \n",
       "3      0.622005  0.098386  5947184989    2    1  703  315    1    4  0   \n",
       "4      0.957234  0.646479 -5724795826    1    1  122  304   15    1  0   \n",
       "5      0.623008  0.159709 -3097637172    1    1  486  240    1    1  0   \n",
       "\n",
       "       year_f15  \n",
       "Index            \n",
       "1          1986  \n",
       "2          1979  \n",
       "3          1989  \n",
       "4          1982  \n",
       "5          1987  "
      ]
     },
     "execution_count": 22,
     "metadata": {},
     "output_type": "execute_result"
    }
   ],
   "source": [
    "sgfnt_num_feats = ['F2','F4','F10','F19','F20']\n",
    "sgfnt_cat_feats = ['year_f15','F17','F18','F21','F22']\n",
    "\n",
    "not_sgfnt = [\n",
    "    col \n",
    "    for col in df.columns \n",
    "    if col not in sgfnt_num_feats \n",
    "    and col not in sgfnt_cat_feats\n",
    "    and col != 'C'\n",
    "]\n",
    "\n",
    "not_sgfnt\n",
    "df=df.drop(not_sgfnt, axis=1)\n",
    "df.head()"
   ]
  },
  {
   "cell_type": "markdown",
   "metadata": {},
   "source": [
    "#### Evaluating the feature importance using RandomForest"
   ]
  },
  {
   "cell_type": "code",
   "execution_count": 23,
   "metadata": {},
   "outputs": [
    {
     "data": {
      "text/plain": [
       "['F2', 'F4', 'F10', 'F17', 'F18', 'F19', 'F20', 'F21', 'F22', 'year_f15']"
      ]
     },
     "execution_count": 23,
     "metadata": {},
     "output_type": "execute_result"
    }
   ],
   "source": [
    "target = 'C'\n",
    "feature_cols = [cols for cols in df.columns if cols != 'C']\n",
    "feature_cols"
   ]
  },
  {
   "cell_type": "code",
   "execution_count": 24,
   "metadata": {},
   "outputs": [
    {
     "name": "stdout",
     "output_type": "stream",
     "text": [
      "<class 'pandas.core.frame.DataFrame'>\n",
      "Int64Index: 101180 entries, 1 to 101180\n",
      "Data columns (total 11 columns):\n",
      "F2          101180 non-null float64\n",
      "F4          101180 non-null float64\n",
      "F10         101180 non-null int64\n",
      "F17         101180 non-null int64\n",
      "F18         101180 non-null int64\n",
      "F19         101180 non-null int64\n",
      "F20         101180 non-null int64\n",
      "F21         101180 non-null int64\n",
      "F22         101180 non-null int64\n",
      "C           101180 non-null int32\n",
      "year_f15    101180 non-null int64\n",
      "dtypes: float64(2), int32(1), int64(8)\n",
      "memory usage: 13.9 MB\n"
     ]
    }
   ],
   "source": [
    "df.info()"
   ]
  },
  {
   "cell_type": "code",
   "execution_count": 25,
   "metadata": {},
   "outputs": [
    {
     "data": {
      "text/plain": [
       "RandomForestClassifier()"
      ]
     },
     "execution_count": 25,
     "metadata": {},
     "output_type": "execute_result"
    }
   ],
   "source": [
    "from sklearn.ensemble import RandomForestClassifier\n",
    "\n",
    "rfc = RandomForestClassifier()\n",
    "rfc.fit(df[feature_cols],df[target])"
   ]
  },
  {
   "cell_type": "code",
   "execution_count": 26,
   "metadata": {},
   "outputs": [
    {
     "data": {
      "text/plain": [
       "<matplotlib.axes._subplots.AxesSubplot at 0x1e367e0d548>"
      ]
     },
     "execution_count": 26,
     "metadata": {},
     "output_type": "execute_result"
    },
    {
     "data": {
      "image/png": "[encoded data removed]",
      "text/plain": [
       "<Figure size 432x288 with 1 Axes>"
      ]
     },
     "metadata": {},
     "output_type": "display_data"
    }
   ],
   "source": [
    "feat_importances = pd.Series(rfc.feature_importances_, index=feature_cols)\n",
    "feat_importances.nlargest(10).plot(kind='barh', title='Feature Importance')"
   ]
  },
  {
   "cell_type": "markdown",
   "metadata": {},
   "source": [
    "##### F19 and F20 are two most important features "
   ]
  },
  {
   "cell_type": "markdown",
   "metadata": {},
   "source": [
    "##### Calculating permutation importance beacuse the default impurity based feature importance of\n",
    "##### RandomForestClassifier ranks the numerical features to be the most important features.\n",
    "##### https://scikit-learn.org/stable/auto_examples/inspection/plot_permutation_importance.html\n"
   ]
  },
  {
   "cell_type": "code",
   "execution_count": 27,
   "metadata": {},
   "outputs": [],
   "source": [
    "from sklearn.inspection import permutation_importance\n",
    "\n",
    "result = permutation_importance(rfc, df[feature_cols], df[target], n_repeats=10, random_state=42, n_jobs=-1)"
   ]
  },
  {
   "cell_type": "code",
   "execution_count": 28,
   "metadata": {},
   "outputs": [
    {
     "data": {
      "text/plain": [
       "{'importances_mean': array([0.13124036, 0.14746491, 0.13479344, 0.04846511, 0.0509577 ,\n",
       "        0.130593  , 0.13909369, 0.12761909, 0.1047796 , 0.05598933]),\n",
       " 'importances_std': array([0.00068366, 0.00048178, 0.00052602, 0.00047912, 0.00049953,\n",
       "        0.0004476 , 0.00059353, 0.00035936, 0.00058413, 0.00077797]),\n",
       " 'importances': array([[0.13114252, 0.13204191, 0.12988733, 0.13209132, 0.1307966 ,\n",
       "         0.1309745 , 0.13207156, 0.13058905, 0.13128089, 0.13152797],\n",
       "        [0.14734137, 0.14695592, 0.14722277, 0.14765764, 0.14816169,\n",
       "         0.14683732, 0.14735126, 0.14846808, 0.14741056, 0.14724254],\n",
       "        [0.1351947 , 0.1347796 , 0.13478948, 0.13433485, 0.13544179,\n",
       "         0.13476972, 0.13471042, 0.13474995, 0.1355505 , 0.13361336],\n",
       "        [0.04775647, 0.04808263, 0.04828029, 0.04843843, 0.04790472,\n",
       "         0.04819134, 0.04908085, 0.04917968, 0.04880411, 0.0489326 ],\n",
       "        [0.05079067, 0.0498221 , 0.0508302 , 0.05085985, 0.05147262,\n",
       "         0.05109705, 0.05173947, 0.05060289, 0.05105752, 0.05130461],\n",
       "        [0.130678  , 0.12982803, 0.13130065, 0.1302629 , 0.13051987,\n",
       "         0.13074718, 0.13107333, 0.13042103, 0.13105357, 0.13004546],\n",
       "        [0.13869342, 0.13908875, 0.13926665, 0.1385847 , 0.13978059,\n",
       "         0.13839692, 0.14047243, 0.13906899, 0.13892074, 0.13866377],\n",
       "        [0.12739672, 0.12817751, 0.1276438 , 0.127288  , 0.12712987,\n",
       "         0.12726823, 0.12753509, 0.12825657, 0.1278217 , 0.12767345],\n",
       "        [0.10515912, 0.10426962, 0.10441787, 0.10454635, 0.1049318 ,\n",
       "         0.10353825, 0.10477367, 0.10567306, 0.10511959, 0.10536667],\n",
       "        [0.05534691, 0.05606839, 0.05577189, 0.05716545, 0.05442775,\n",
       "         0.05609804, 0.05674046, 0.05583119, 0.05549516, 0.05694801]])}"
      ]
     },
     "execution_count": 28,
     "metadata": {},
     "output_type": "execute_result"
    }
   ],
   "source": [
    "result"
   ]
  },
  {
   "cell_type": "code",
   "execution_count": 29,
   "metadata": {},
   "outputs": [
    {
     "data": {
      "text/plain": [
       "<matplotlib.axes._subplots.AxesSubplot at 0x1e368d64908>"
      ]
     },
     "execution_count": 29,
     "metadata": {},
     "output_type": "execute_result"
    },
    {
     "data": {
      "image/png": "[encoded data removed]",
      "text/plain": [
       "<Figure size 432x288 with 1 Axes>"
      ]
     },
     "metadata": {},
     "output_type": "display_data"
    }
   ],
   "source": [
    "perm_importances = pd.Series(result.importances_mean, index=feature_cols)\n",
    "perm_importances.nlargest(10).plot(kind='barh', title='Feature Importance')"
   ]
  },
  {
   "cell_type": "markdown",
   "metadata": {},
   "source": [
    "##### F4 has become the most important feature now and we observed before that F17 and F18 are\n",
    "##### correlated to F19 and F20 respectively. Also they have very less scores in terms of feature importance\n",
    "##### therefore we will drop F17 and F18"
   ]
  },
  {
   "cell_type": "code",
   "execution_count": 30,
   "metadata": {},
   "outputs": [
    {
     "data": {
      "text/html": [
       "<div>\n",
       "<style scoped>\n",
       "    .dataframe tbody tr th:only-of-type {\n",
       "        vertical-align: middle;\n",
       "    }\n",
       "\n",
       "    .dataframe tbody tr th {\n",
       "        vertical-align: top;\n",
       "    }\n",
       "\n",
       "    .dataframe thead th {\n",
       "        text-align: right;\n",
       "    }\n",
       "</style>\n",
       "<table border=\"1\" class=\"dataframe\">\n",
       "  <thead>\n",
       "    <tr style=\"text-align: right;\">\n",
       "      <th></th>\n",
       "      <th>F2</th>\n",
       "      <th>F4</th>\n",
       "      <th>F10</th>\n",
       "      <th>F19</th>\n",
       "      <th>F20</th>\n",
       "      <th>F21</th>\n",
       "      <th>F22</th>\n",
       "      <th>year_f15</th>\n",
       "    </tr>\n",
       "    <tr>\n",
       "      <th>Index</th>\n",
       "      <th></th>\n",
       "      <th></th>\n",
       "      <th></th>\n",
       "      <th></th>\n",
       "      <th></th>\n",
       "      <th></th>\n",
       "      <th></th>\n",
       "      <th></th>\n",
       "    </tr>\n",
       "  </thead>\n",
       "  <tbody>\n",
       "    <tr>\n",
       "      <td>1</td>\n",
       "      <td>0.500340</td>\n",
       "      <td>0.902413</td>\n",
       "      <td>4227810299</td>\n",
       "      <td>706</td>\n",
       "      <td>305</td>\n",
       "      <td>1</td>\n",
       "      <td>2</td>\n",
       "      <td>1986</td>\n",
       "    </tr>\n",
       "    <tr>\n",
       "      <td>2</td>\n",
       "      <td>0.281119</td>\n",
       "      <td>0.772159</td>\n",
       "      <td>-1146724819</td>\n",
       "      <td>423</td>\n",
       "      <td>206</td>\n",
       "      <td>18</td>\n",
       "      <td>7</td>\n",
       "      <td>1979</td>\n",
       "    </tr>\n",
       "    <tr>\n",
       "      <td>3</td>\n",
       "      <td>0.622005</td>\n",
       "      <td>0.098386</td>\n",
       "      <td>5947184989</td>\n",
       "      <td>703</td>\n",
       "      <td>315</td>\n",
       "      <td>1</td>\n",
       "      <td>4</td>\n",
       "      <td>1989</td>\n",
       "    </tr>\n",
       "    <tr>\n",
       "      <td>4</td>\n",
       "      <td>0.957234</td>\n",
       "      <td>0.646479</td>\n",
       "      <td>-5724795826</td>\n",
       "      <td>122</td>\n",
       "      <td>304</td>\n",
       "      <td>15</td>\n",
       "      <td>1</td>\n",
       "      <td>1982</td>\n",
       "    </tr>\n",
       "    <tr>\n",
       "      <td>5</td>\n",
       "      <td>0.623008</td>\n",
       "      <td>0.159709</td>\n",
       "      <td>-3097637172</td>\n",
       "      <td>486</td>\n",
       "      <td>240</td>\n",
       "      <td>1</td>\n",
       "      <td>1</td>\n",
       "      <td>1987</td>\n",
       "    </tr>\n",
       "  </tbody>\n",
       "</table>\n",
       "</div>"
      ],
      "text/plain": [
       "             F2        F4         F10  F19  F20  F21  F22  year_f15\n",
       "Index                                                              \n",
       "1      0.500340  0.902413  4227810299  706  305    1    2      1986\n",
       "2      0.281119  0.772159 -1146724819  423  206   18    7      1979\n",
       "3      0.622005  0.098386  5947184989  703  315    1    4      1989\n",
       "4      0.957234  0.646479 -5724795826  122  304   15    1      1982\n",
       "5      0.623008  0.159709 -3097637172  486  240    1    1      1987"
      ]
     },
     "execution_count": 30,
     "metadata": {},
     "output_type": "execute_result"
    }
   ],
   "source": [
    "X = df[feature_cols]\n",
    "X = X.drop('F17', axis=1)\n",
    "X = X.drop('F18', axis=1)\n",
    "X.head()"
   ]
  },
  {
   "cell_type": "markdown",
   "metadata": {},
   "source": [
    "#### Splitting the data into train and test"
   ]
  },
  {
   "cell_type": "code",
   "execution_count": 31,
   "metadata": {},
   "outputs": [],
   "source": [
    "\n",
    "y=df['C']\n",
    "\n",
    "X_train, X_test, y_train, y_test = train_test_split(X.values, y.values, test_size=0.25, random_state=42, stratify=y)"
   ]
  },
  {
   "cell_type": "markdown",
   "metadata": {},
   "source": [
    "##### Stratified sampling aims at splitting a data set so that each split is similar with respect to something. \n",
    "##### In a classification setting, it is often chosen to ensure that the train and test sets have approximately \n",
    "##### the same percentage of samples of each target class as the complete set"
   ]
  },
  {
   "cell_type": "markdown",
   "metadata": {},
   "source": [
    "#### scaling the data"
   ]
  },
  {
   "cell_type": "markdown",
   "metadata": {},
   "source": [
    "##### Variables that are measured at different scales do not contribute equally to the model fitting & \n",
    "##### model learned function and might end up creating a bias. Thus, to deal with this potential problem \n",
    "##### feature-wise standardized (μ=0, σ=1) is usually used prior to model fitting."
   ]
  },
  {
   "cell_type": "code",
   "execution_count": 32,
   "metadata": {},
   "outputs": [
    {
     "data": {
      "text/plain": [
       "array([[ 0.70207045,  1.6180477 ,  1.6760912 , ...,  0.71596024,\n",
       "        -0.75266575, -0.87122301],\n",
       "       [ 1.19336489,  0.58376634,  0.17337526, ..., -0.54306816,\n",
       "        -0.75266575, -0.87122301],\n",
       "       [-0.30249474,  1.68665918,  1.47739977, ...,  0.92579831,\n",
       "         0.083553  ,  1.12161826],\n",
       "       ...,\n",
       "       [ 0.41294744,  0.36039101, -0.71467773, ..., -0.54306816,\n",
       "         0.91977175,  0.8725131 ],\n",
       "       [-0.25118916,  1.22812163, -1.05902115, ..., -0.75290623,\n",
       "        -0.75266575, -0.12390754],\n",
       "       [-0.14264165,  0.34218893,  1.69385212, ..., -0.12339203,\n",
       "        -0.33455637,  0.62340794]])"
      ]
     },
     "execution_count": 32,
     "metadata": {},
     "output_type": "execute_result"
    }
   ],
   "source": [
    "from sklearn.preprocessing import StandardScaler\n",
    "\n",
    "scaler = StandardScaler()\n",
    "X_train = scaler.fit_transform(X_train)\n",
    "X_test = scaler.transform(X_test)\n",
    "X_train"
   ]
  },
  {
   "cell_type": "markdown",
   "metadata": {},
   "source": []
  },
  {
   "cell_type": "code",
   "execution_count": 33,
   "metadata": {},
   "outputs": [],
   "source": [
    "\n",
    "# smt=SMOTE(random_state=10) #FOR CLASS IMBALANCE\n",
    "# X_train, y_train = smt.fit_sample(X_train, y_train)"
   ]
  },
  {
   "cell_type": "markdown",
   "metadata": {},
   "source": [
    "#### baseline model - logistic regression --> 75.31% mean accuracy on validation set"
   ]
  },
  {
   "cell_type": "code",
   "execution_count": 34,
   "metadata": {},
   "outputs": [
    {
     "data": {
      "text/plain": [
       "LogisticRegression(random_state=102)"
      ]
     },
     "execution_count": 34,
     "metadata": {},
     "output_type": "execute_result"
    }
   ],
   "source": [
    "model = LogisticRegression(random_state=102)\n",
    "lr = model.fit(X_train, y_train)\n",
    "lr"
   ]
  },
  {
   "cell_type": "code",
   "execution_count": 35,
   "metadata": {},
   "outputs": [
    {
     "data": {
      "text/plain": [
       "array([0, 1])"
      ]
     },
     "execution_count": 35,
     "metadata": {},
     "output_type": "execute_result"
    }
   ],
   "source": [
    "lr.classes_"
   ]
  },
  {
   "cell_type": "code",
   "execution_count": 36,
   "metadata": {},
   "outputs": [
    {
     "data": {
      "text/plain": [
       "array([-1.19416782])"
      ]
     },
     "execution_count": 36,
     "metadata": {},
     "output_type": "execute_result"
    }
   ],
   "source": [
    "lr.intercept_ #array([-0.23622246])\n"
   ]
  },
  {
   "cell_type": "code",
   "execution_count": 37,
   "metadata": {},
   "outputs": [
    {
     "data": {
      "text/plain": [
       "array([[-0.06291684,  0.09359142,  0.01586145, -0.37281788, -0.36323801,\n",
       "        -0.04533788, -0.03757444,  0.00251492]])"
      ]
     },
     "execution_count": 37,
     "metadata": {},
     "output_type": "execute_result"
    }
   ],
   "source": [
    "lr.coef_"
   ]
  },
  {
   "cell_type": "code",
   "execution_count": 38,
   "metadata": {},
   "outputs": [
    {
     "data": {
      "text/plain": [
       "array([0.20101222, 0.18622723, 0.25267764, ..., 0.30481113, 0.4211243 ,\n",
       "       0.18590166])"
      ]
     },
     "execution_count": 38,
     "metadata": {},
     "output_type": "execute_result"
    }
   ],
   "source": [
    "lr_probs = lr.predict_proba(X_test)[:,1]\n",
    "lr_probs"
   ]
  },
  {
   "cell_type": "code",
   "execution_count": 39,
   "metadata": {},
   "outputs": [
    {
     "data": {
      "text/plain": [
       "0.7531132634908084"
      ]
     },
     "execution_count": 39,
     "metadata": {},
     "output_type": "execute_result"
    }
   ],
   "source": [
    "lr_score = lr.score(X_test, y_test) \n",
    "lr_score"
   ]
  },
  {
   "cell_type": "code",
   "execution_count": 40,
   "metadata": {},
   "outputs": [
    {
     "data": {
      "image/png": "[encoded data removed]",
      "text/plain": [
       "<Figure size 432x288 with 2 Axes>"
      ]
     },
     "metadata": {},
     "output_type": "display_data"
    }
   ],
   "source": [
    "lr_preds = lr.predict(X_test)\n",
    "cm = confusion_matrix(y_test, lr_preds)\n",
    "\n",
    "plot_confusion_matrix(lr, X_test, y_test)\n",
    "plt.grid(b=None)\n",
    "plt.show()"
   ]
  },
  {
   "cell_type": "code",
   "execution_count": 41,
   "metadata": {},
   "outputs": [
    {
     "name": "stdout",
     "output_type": "stream",
     "text": [
      "              precision    recall  f1-score   support\n",
      "\n",
      "           0       0.75      1.00      0.86     19088\n",
      "           1       0.31      0.01      0.01      6207\n",
      "\n",
      "    accuracy                           0.75     25295\n",
      "   macro avg       0.53      0.50      0.43     25295\n",
      "weighted avg       0.65      0.75      0.65     25295\n",
      "\n"
     ]
    }
   ],
   "source": [
    "cr_lr = classification_report(y_test, lr_preds)\n",
    "print(cr_lr)"
   ]
  },
  {
   "cell_type": "markdown",
   "metadata": {},
   "source": [
    "##### If we look at the classification report, it is able to predict class 0 with a good recall \n",
    "##### but the same is impacted in case of class 1 where recall is only (0.01). We will use\n",
    "##### something called SMOTe to address this issue"
   ]
  },
  {
   "cell_type": "code",
   "execution_count": 42,
   "metadata": {},
   "outputs": [
    {
     "data": {
      "image/png": "[encoded data removed]",
      "text/plain": [
       "<Figure size 432x288 with 1 Axes>"
      ]
     },
     "metadata": {},
     "output_type": "display_data"
    }
   ],
   "source": [
    "roc_auc = roc_auc_score(y_test, lr_probs)\n",
    "\n",
    "fpr, tpr, thresholds = roc_curve(y_test, lr_probs) \n",
    "plt.figure()\n",
    "plt.title('Receiver Operating Characteristic')\n",
    "plt.plot(fpr, tpr, 'b', label = 'AUC = %0.2f' % roc_auc)\n",
    "plt.legend(loc = 'lower right')\n",
    "plt.plot([0, 1], [0, 1],'r--')\n",
    "plt.xlim([0, 1])\n",
    "plt.ylim([0, 1])\n",
    "plt.ylabel('True Positive Rate')\n",
    "plt.xlabel('False Positive Rate')\n",
    "plt.show()"
   ]
  },
  {
   "cell_type": "markdown",
   "metadata": {},
   "source": [
    "##### Using a random forest to check if we can do better than the baseline"
   ]
  },
  {
   "cell_type": "code",
   "execution_count": 43,
   "metadata": {},
   "outputs": [
    {
     "name": "stdout",
     "output_type": "stream",
     "text": [
      "Training accuracy 0.9999604664953549\n",
      "Test accuracy 0.7479739078869342\n"
     ]
    }
   ],
   "source": [
    "rf_model = RandomForestClassifier(random_state=101)\n",
    "rf_model.fit(X_train,y_train)\n",
    "print(\"Training accuracy\",rf_model.score(X_train,y_train))\n",
    "print(\"Test accuracy\",rf_model.score(X_test,y_test))"
   ]
  },
  {
   "cell_type": "markdown",
   "metadata": {},
   "source": [
    "##### The above model overfits on training data with accuracy as 0.9999, \n",
    "##### hence we add the parameter `min_impurity_decrease` to tackle overfitting on training data"
   ]
  },
  {
   "cell_type": "code",
   "execution_count": 44,
   "metadata": {},
   "outputs": [
    {
     "name": "stdout",
     "output_type": "stream",
     "text": [
      "Training accuracy 0.7546287145022073\n",
      "Test accuracy 0.7546155366673255\n"
     ]
    }
   ],
   "source": [
    "rf_model_2 = RandomForestClassifier(random_state=202, min_impurity_decrease=0.1)\n",
    "rf_model_2.fit(X_train,y_train)\n",
    "print(\"Training accuracy\",rf_model_2.score(X_train,y_train))\n",
    "print(\"Test accuracy\",rf_model_2.score(X_test,y_test))"
   ]
  },
  {
   "cell_type": "code",
   "execution_count": 45,
   "metadata": {},
   "outputs": [],
   "source": [
    "# Trying a RandomForestClassifier with lesser overfitting\n",
    "# param_test1 = {\n",
    "#  'max_features':range(1,8,1)\n",
    "# }\n",
    "# gsearch1 = GridSearchCV(estimator = RandomForestClassifier(), param_grid = param_test1, \n",
    "#                         scoring='f1',n_jobs=-1,iid=False, cv=3, verbose=10)\n",
    "# gsearch1.fit(X_train, y_train)\n",
    "# gsearch1.best_params_, gsearch1.best_score_\n",
    "# ({'max_depth': 10, 'n_estimators': 1}, 0.06902616703164123)\n"
   ]
  },
  {
   "cell_type": "code",
   "execution_count": 46,
   "metadata": {},
   "outputs": [
    {
     "name": "stdout",
     "output_type": "stream",
     "text": [
      "Training accuracy 0.7572247479739079\n",
      "Test accuracy 0.7466297687289978\n"
     ]
    }
   ],
   "source": [
    "# Using Random forest with max_depth:10 and n_estimators:1\n",
    "rf_model_3 = RandomForestClassifier(random_state=404, max_depth=10, n_estimators=1, max_features=6)\n",
    "rf_model_3.fit(X_train,y_train)\n",
    "print(\"Training accuracy\",rf_model_3.score(X_train,y_train))\n",
    "print(\"Test accuracy\",rf_model_3.score(X_test,y_test))"
   ]
  },
  {
   "cell_type": "code",
   "execution_count": 47,
   "metadata": {},
   "outputs": [
    {
     "data": {
      "image/png": "[encoded data removed]",
      "text/plain": [
       "<Figure size 432x288 with 2 Axes>"
      ]
     },
     "metadata": {},
     "output_type": "display_data"
    }
   ],
   "source": [
    "rf3_preds = rf_model_3.predict(X_test)\n",
    "cm = confusion_matrix(y_test, rf3_preds)\n",
    "\n",
    "plot_confusion_matrix(rf_model_3, X_test, y_test)\n",
    "plt.grid(b=None)\n",
    "plt.show()"
   ]
  },
  {
   "cell_type": "code",
   "execution_count": 48,
   "metadata": {},
   "outputs": [
    {
     "name": "stdout",
     "output_type": "stream",
     "text": [
      "              precision    recall  f1-score   support\n",
      "\n",
      "           0       0.76      0.98      0.85     19088\n",
      "           1       0.31      0.03      0.05      6207\n",
      "\n",
      "    accuracy                           0.75     25295\n",
      "   macro avg       0.53      0.50      0.45     25295\n",
      "weighted avg       0.65      0.75      0.66     25295\n",
      "\n"
     ]
    }
   ],
   "source": [
    "cr_rf3 = classification_report(y_test, rf3_preds)\n",
    "print(cr_rf3)"
   ]
  },
  {
   "cell_type": "markdown",
   "metadata": {},
   "source": [
    "##### Using paramters from GridSearchCV we are able to compensate \n",
    "##### somewhat for the impacted scores of class 1. \n",
    "##### We are able to improve the F1-score from 0.65 to 0.66"
   ]
  },
  {
   "cell_type": "markdown",
   "metadata": {},
   "source": [
    "##### using smote to tackle imbalance"
   ]
  },
  {
   "cell_type": "code",
   "execution_count": 49,
   "metadata": {},
   "outputs": [
    {
     "name": "stdout",
     "output_type": "stream",
     "text": [
      "Number transactions X_train dataset:  (75885, 8)\n",
      "Number transactions y_train dataset:  (75885,)\n",
      "Number transactions X_test dataset:  (25295, 8)\n",
      "Number transactions y_test dataset:  (25295,)\n"
     ]
    }
   ],
   "source": [
    "from imblearn.over_sampling import SMOTE\n",
    "\n",
    "from sklearn.model_selection import train_test_split\n",
    "\n",
    "X_train, X_test, y_train, y_test = train_test_split(X, y, test_size=0.25, random_state=21, stratify=y)\n",
    "\n",
    "print(\"Number transactions X_train dataset: \", X_train.shape)\n",
    "print(\"Number transactions y_train dataset: \", y_train.shape)\n",
    "print(\"Number transactions X_test dataset: \", X_test.shape)\n",
    "print(\"Number transactions y_test dataset: \", y_test.shape)"
   ]
  },
  {
   "cell_type": "code",
   "execution_count": 50,
   "metadata": {},
   "outputs": [
    {
     "name": "stdout",
     "output_type": "stream",
     "text": [
      "Before OverSampling, counts of label '1': 18620\n",
      "Before OverSampling, counts of label '0': 57265 \n",
      "\n",
      "After OverSampling, the shape of train_X: (114530, 8)\n",
      "After OverSampling, the shape of train_y: (114530,) \n",
      "\n",
      "After OverSampling, counts of label '1': 57265\n",
      "After OverSampling, counts of label '0': 57265\n"
     ]
    }
   ],
   "source": [
    "print(\"Before OverSampling, counts of label '1': {}\".format(sum(y_train==1)))\n",
    "print(\"Before OverSampling, counts of label '0': {} \\n\".format(sum(y_train==0)))\n",
    "\n",
    "sm = SMOTE(random_state=200)\n",
    "X_train_res, y_train_res = sm.fit_sample(X_train, y_train.ravel())\n",
    "\n",
    "print('After OverSampling, the shape of train_X: {}'.format(X_train_res.shape))\n",
    "print('After OverSampling, the shape of train_y: {} \\n'.format(y_train_res.shape))\n",
    "\n",
    "print(\"After OverSampling, counts of label '1': {}\".format(sum(y_train_res==1)))\n",
    "print(\"After OverSampling, counts of label '0': {}\".format(sum(y_train_res==0)))"
   ]
  },
  {
   "cell_type": "code",
   "execution_count": 51,
   "metadata": {},
   "outputs": [
    {
     "name": "stdout",
     "output_type": "stream",
     "text": [
      "Training accuracy 0.7273116214092378\n",
      "Test accuracy 0.6200039533504645\n"
     ]
    }
   ],
   "source": [
    "rfc_smoted = RandomForestClassifier(random_state=505, max_depth=10, n_estimators=1, max_features=6)\n",
    "rfc_smoted.fit(X_train_res, y_train_res)\n",
    "rfc_smoted\n",
    "print(\"Training accuracy\",rfc_smoted.score(X_train_res,y_train_res))\n",
    "print(\"Test accuracy\",rfc_smoted.score(X_test,y_test))"
   ]
  },
  {
   "cell_type": "code",
   "execution_count": 52,
   "metadata": {},
   "outputs": [
    {
     "data": {
      "text/plain": [
       "array([0.04150943, 0.72985792, 0.00993789, ..., 0.72985792, 0.36935167,\n",
       "       0.01712329])"
      ]
     },
     "execution_count": 52,
     "metadata": {},
     "output_type": "execute_result"
    }
   ],
   "source": [
    "rfc_smt_probs = rfc_smoted.predict_proba(X_test)[:,1]\n",
    "rfc_smt_probs"
   ]
  },
  {
   "cell_type": "code",
   "execution_count": 53,
   "metadata": {},
   "outputs": [
    {
     "data": {
      "text/plain": [
       "0.6200039533504645"
      ]
     },
     "execution_count": 53,
     "metadata": {},
     "output_type": "execute_result"
    }
   ],
   "source": [
    "rfc_smt_score = rfc_smoted.score(X_test, y_test) \n",
    "rfc_smt_score"
   ]
  },
  {
   "cell_type": "code",
   "execution_count": 54,
   "metadata": {},
   "outputs": [
    {
     "data": {
      "image/png": "[encoded data removed]",
      "text/plain": [
       "<Figure size 432x288 with 2 Axes>"
      ]
     },
     "metadata": {},
     "output_type": "display_data"
    }
   ],
   "source": [
    "rfc_smt_preds = rfc_smoted.predict(X_test)\n",
    "\n",
    "plot_confusion_matrix(rfc_smoted, X_test, y_test)\n",
    "plt.grid(b=None)\n",
    "plt.show()"
   ]
  },
  {
   "cell_type": "code",
   "execution_count": 55,
   "metadata": {
    "scrolled": true
   },
   "outputs": [
    {
     "name": "stdout",
     "output_type": "stream",
     "text": [
      "              precision    recall  f1-score   support\n",
      "\n",
      "           0       0.84      0.61      0.71     19088\n",
      "           1       0.35      0.65      0.46      6207\n",
      "\n",
      "    accuracy                           0.62     25295\n",
      "   macro avg       0.60      0.63      0.58     25295\n",
      "weighted avg       0.72      0.62      0.65     25295\n",
      "\n"
     ]
    }
   ],
   "source": [
    "cr_rfc_smt = classification_report(y_test, rfc_smt_preds)\n",
    "print(cr_rfc_smt)"
   ]
  },
  {
   "cell_type": "markdown",
   "metadata": {},
   "source": [
    "               precision    recall  f1-score   support\n",
    "\n",
    "           0       0.76      0.98      0.85     19088\n",
    "           1       0.31      0.03      0.05      6207\n",
    "\n",
    "    accuracy                           0.75     25295\n",
    "    \n",
    "   macro avg       0.53      0.50      0.45     25295\n",
    "   \n",
    "weighted avg       0.65      0.75      0.66     25295\n",
    "\n",
    "##### If you compare this with the previous classifiaction report, it is evident that the \n",
    "##### accuracy of model is decreased from 75 to 62, but we see a significant imporvement\n",
    "##### of recall for class 1 from 0.03 to 0.65. This has resulted in a better f1-score and\n",
    "##### overall recall of the model for both the classes"
   ]
  },
  {
   "cell_type": "markdown",
   "metadata": {},
   "source": [
    "##### We will also try to use XGBoost to see if we can get any imporvements\n",
    "##### `NOTE`: The Hyperparameter tuning blocks are commented and the final set of \n",
    "##### selected parameters are present in the nexr cell."
   ]
  },
  {
   "cell_type": "code",
   "execution_count": 56,
   "metadata": {},
   "outputs": [],
   "source": [
    "# Hyperparameter tuning for XGBoost\n",
    "# param_test1 = {\n",
    "#  'max_depth':range(7,17,2),\n",
    "#  'min_child_weight':range(1,6,2)\n",
    "# }\n",
    "\n",
    "# gsearch1 = GridSearchCV(estimator=XGBClassifier(learning_rate=0.1, n_estimators=140, max_depth=5, min_child_weight=1, \n",
    "#                                                 gamma=0, subsample=0.8, colsample_bytree=0.8, objective= 'binary:logistic', \n",
    "#                                                 nthread=4, scale_pos_weight=1, seed=27), \n",
    "#                         param_grid = param_test1, \n",
    "#                         scoring='f1',\n",
    "#                         n_jobs=-1,\n",
    "#                         verbose=10,\n",
    "#                         cv=3)\n",
    "# gsearch1.fit(X_train_res, y_train_res)\n",
    "# gsearch1.best_params_, gsearch1.best_score_\n",
    "# ({'max_depth': 15, 'min_child_weight': 1}, 0.7412811190331731)\n",
    "\n",
    "# Fitting 3 folds for each of 15 candidates, totalling 45 fits\n",
    "# [Parallel(n_jobs=-1)]: Using backend LokyBackend with 8 concurrent workers.\n",
    "# [Parallel(n_jobs=-1)]: Done   2 tasks      | elapsed:  1.7min\n",
    "# [Parallel(n_jobs=-1)]: Done   9 tasks      | elapsed:  4.4min\n",
    "# [Parallel(n_jobs=-1)]: Done  16 tasks      | elapsed:  5.6min\n",
    "# [Parallel(n_jobs=-1)]: Done  25 tasks      | elapsed: 11.2min\n",
    "# [Parallel(n_jobs=-1)]: Done  35 out of  45 | elapsed: 17.3min remaining:  4.9min\n",
    "# [Parallel(n_jobs=-1)]: Done  40 out of  45 | elapsed: 19.5min remaining:  2.4min\n",
    "# [Parallel(n_jobs=-1)]: Done  45 out of  45 | elapsed: 21.9min remaining:    0.0s\n",
    "# [Parallel(n_jobs=-1)]: Done  45 out of  45 | elapsed: 21.9min finished"
   ]
  },
  {
   "cell_type": "code",
   "execution_count": 57,
   "metadata": {},
   "outputs": [],
   "source": [
    "# param_test3 = {\n",
    "#  'gamma':[i/10.0 for i in range(0,5)]\n",
    "# }\n",
    "# gsearch3 = GridSearchCV(estimator = XGBClassifier( learning_rate =0.1, n_estimators=140, max_depth=9, min_child_weight=1, \n",
    "#                                                    gamma=0, subsample=0.8, colsample_bytree=0.8, objective= 'binary:logistic', \n",
    "#                                                    nthread=4, scale_pos_weight=1, seed=27), \n",
    "#                         param_grid = param_test3, \n",
    "#                         scoring='f1',\n",
    "#                         n_jobs=-1,\n",
    "#                         verbose=10,\n",
    "#                         cv=3)\n",
    "# gsearch3.fit(X_train_res, y_train_res)\n",
    "# gsearch3.best_params_, gsearch3.best_score_\n",
    "# ({'gamma': 0.2}, 0.7317720488079312)\n",
    "\n",
    "# Fitting 3 folds for each of 5 candidates, totalling 15 fits\n",
    "# [Parallel(n_jobs=-1)]: Using backend LokyBackend with 8 concurrent workers.\n",
    "# [Parallel(n_jobs=-1)]: Done   2 out of  15 | elapsed:  2.8min remaining: 18.1min\n",
    "# [Parallel(n_jobs=-1)]: Done   4 out of  15 | elapsed:  2.8min remaining:  7.7min\n",
    "# [Parallel(n_jobs=-1)]: Done   6 out of  15 | elapsed:  2.8min remaining:  4.3min\n",
    "# [Parallel(n_jobs=-1)]: Done   8 out of  15 | elapsed:  2.9min remaining:  2.5min\n",
    "# [Parallel(n_jobs=-1)]: Done  10 out of  15 | elapsed:  5.6min remaining:  2.8min\n",
    "# [Parallel(n_jobs=-1)]: Done  12 out of  15 | elapsed:  5.6min remaining:  1.4min\n",
    "# [Parallel(n_jobs=-1)]: Done  15 out of  15 | elapsed:  5.7min finished"
   ]
  },
  {
   "cell_type": "code",
   "execution_count": 58,
   "metadata": {},
   "outputs": [],
   "source": [
    "# param_test5 = {\n",
    "#  'subsample':[i/100.0 for i in range(75,90,5)],\n",
    "#  'colsample_bytree':[i/100.0 for i in range(75,90,5)]\n",
    "# }\n",
    "# gsearch5 = GridSearchCV(estimator = XGBClassifier(learning_rate =0.1, n_estimators=140, max_depth=9, min_child_weight=1, \n",
    "#                                                   gamma=0.4, subsample=0.8, colsample_bytree=0.8, objective= 'binary:logistic',\n",
    "#                                                   nthread=4, scale_pos_weight=1, seed=27), \n",
    "#                         param_grid = param_test5, \n",
    "#                         scoring='f1',\n",
    "#                         n_jobs=-1,\n",
    "#                         verbose=10,\n",
    "#                         cv=3)\n",
    "# gsearch5.fit(X_train_res, y_train_res)\n",
    "# gsearch5.best_params_, gsearch5.best_score_\n",
    "\n",
    "# ({'colsample_bytree': 0.75, 'subsample': 0.85}, 0.7303327771301836)\n",
    "\n",
    "# [Parallel(n_jobs=-1)]: Using backend LokyBackend with 8 concurrent workers.\n",
    "# [Parallel(n_jobs=-1)]: Done   2 tasks      | elapsed:  3.6min\n",
    "# [Parallel(n_jobs=-1)]: Done   9 tasks      | elapsed:  7.6min\n",
    "# [Parallel(n_jobs=-1)]: Done  15 out of  27 | elapsed:  7.8min remaining:  6.2min\n",
    "# [Parallel(n_jobs=-1)]: Done  18 out of  27 | elapsed: 10.9min remaining:  5.4min\n",
    "# [Parallel(n_jobs=-1)]: Done  21 out of  27 | elapsed: 10.9min remaining:  3.1min\n",
    "# [Parallel(n_jobs=-1)]: Done  24 out of  27 | elapsed: 11.0min remaining:  1.4min\n",
    "# [Parallel(n_jobs=-1)]: Done  27 out of  27 | elapsed: 11.7min remaining:    0.0s\n",
    "# [Parallel(n_jobs=-1)]: Done  27 out of  27 | elapsed: 11.7min finished"
   ]
  },
  {
   "cell_type": "code",
   "execution_count": 59,
   "metadata": {},
   "outputs": [],
   "source": [
    "# param_test7 = {\n",
    "#  'reg_lambda':[0, 0.001, 0.005, 0.01, 0.05]\n",
    "# }\n",
    "# gsearch7 = GridSearchCV(estimator = XGBClassifier( learning_rate =0.1, n_estimators=140, max_depth=9, min_child_weight=1, \n",
    "#                                                    gamma=0.4, subsample=0.8, colsample_bytree=0.75, objective= 'binary:logistic',\n",
    "#                                                    nthread=4, scale_pos_weight=1,seed=27), \n",
    "#                         param_grid = param_test7, \n",
    "#                         scoring='f1',\n",
    "#                         n_jobs=-1,\n",
    "#                         verbose=10, \n",
    "#                         cv=3)\n",
    "# gsearch7.fit(X_train_res, y_train_res)\n",
    "# gsearch7.best_params_, gsearch7.best_score_\n",
    "\n",
    "# ({'reg_lambda': 0}, 0.730650625802375)\n"
   ]
  },
  {
   "cell_type": "code",
   "execution_count": 60,
   "metadata": {},
   "outputs": [],
   "source": [
    "# param_test8 = {\n",
    "#  'n_estimators':range(100, 2000, 100)\n",
    "# }\n",
    "# gsearch8 = GridSearchCV(estimator = XGBClassifier( learning_rate =0.1, max_depth=9, min_child_weight=1, \n",
    "#                                                    gamma=0.4, subsample=0.8, colsample_bytree=0.75, objective= 'binary:logistic',\n",
    "#                                                    nthread=4, scale_pos_weight=1,seed=27), \n",
    "#                         param_grid = param_test8, \n",
    "#                         scoring='f1',\n",
    "#                         n_jobs=-1,\n",
    "#                         verbose=10, \n",
    "#                         cv=3)\n",
    "# gsearch8.fit(X_train_res, y_train_res)\n",
    "# gsearch8.best_params_, gsearch8.best_score_\n",
    "# ({'n_estimators': 1900}, 0.7476227100272009)\n",
    "\n",
    "# Fitting 3 folds for each of 19 candidates, totalling 57 fits\n",
    "# [Parallel(n_jobs=-1)]: Using backend LokyBackend with 8 concurrent workers.\n",
    "# [Parallel(n_jobs=-1)]: Done   2 tasks      | elapsed:  1.7min\n",
    "# [Parallel(n_jobs=-1)]: Done   9 tasks      | elapsed:  8.7min\n",
    "# [Parallel(n_jobs=-1)]: Done  16 tasks      | elapsed: 19.3min\n",
    "# [Parallel(n_jobs=-1)]: Done  25 tasks      | elapsed: 38.7min\n",
    "# [Parallel(n_jobs=-1)]: Done  34 tasks      | elapsed: 66.5min\n",
    "# [Parallel(n_jobs=-1)]: Done  48 out of  57 | elapsed: 119.6min remaining: 22.4min\n",
    "# [Parallel(n_jobs=-1)]: Done  54 out of  57 | elapsed: 146.8min remaining:  8.2min\n",
    "# [Parallel(n_jobs=-1)]: Done  57 out of  57 | elapsed: 151.1min finished"
   ]
  },
  {
   "cell_type": "markdown",
   "metadata": {},
   "source": [
    "#### Putting all the best parameters from above exercise in our final classifier"
   ]
  },
  {
   "cell_type": "code",
   "execution_count": 156,
   "metadata": {},
   "outputs": [
    {
     "data": {
      "text/plain": [
       "array([[ 1.6340789 , -1.05606476, -0.54770932, ...,  2.58956738,\n",
       "         1.47581319,  0.43433243],\n",
       "       [ 0.58326237, -0.81661204, -0.99022373, ...,  0.35331701,\n",
       "        -0.76621135, -0.62331555],\n",
       "       [ 1.31967096, -1.30871766,  1.51201657, ..., -0.76480817,\n",
       "        -0.76621135, -1.68096353],\n",
       "       ...,\n",
       "       [ 0.3599385 , -0.59590138,  0.44915674, ...,  0.35331701,\n",
       "        -0.09360399,  0.43433243],\n",
       "       [ 1.50826009,  0.15508167, -0.48945568, ...,  0.12969198,\n",
       "        -0.31780644, -0.09449156],\n",
       "       [-0.15308176, -0.3955264 ,  0.91907473, ..., -0.76480817,\n",
       "        -0.54200889, -0.09449156]])"
      ]
     },
     "execution_count": 156,
     "metadata": {},
     "output_type": "execute_result"
    }
   ],
   "source": [
    "# scaling the data\n",
    "\n",
    "from sklearn.preprocessing import StandardScaler\n",
    "\n",
    "scaler = StandardScaler()\n",
    "X_train_res = scaler.fit_transform(X_train_res)\n",
    "X_test = scaler.transform(X_test)\n",
    "X_train_res"
   ]
  },
  {
   "cell_type": "code",
   "execution_count": 157,
   "metadata": {},
   "outputs": [
    {
     "data": {
      "text/plain": [
       "0.6507610199644198"
      ]
     },
     "execution_count": 157,
     "metadata": {},
     "output_type": "execute_result"
    }
   ],
   "source": [
    "# set verbosity=0 if required silent training\n",
    "xgb = XGBClassifier(learning_rate=0.01, n_estimators=1900, max_depth=15, min_child_weight=1, gamma=0.2, subsample=0.85, \n",
    "                    colsample_bytree=0.75, reg_lambda=0, objective= 'binary:logistic', nthread=4, verbosity=0, n_jobs=-1\n",
    "                    , random_state=2020)\n",
    "\n",
    "xgb.fit(X_train_res, y_train_res)\n",
    "\n",
    "ypred = xgb.predict(X_test)\n",
    "pred_prob = xgb.predict_proba(X_test)[:,1]\n",
    "\n",
    "# recall_score(ypred, y_test)\n",
    "accuracy_score(ypred, y_test) \n",
    "# 0.6515121565526784"
   ]
  },
  {
   "cell_type": "code",
   "execution_count": 158,
   "metadata": {},
   "outputs": [
    {
     "data": {
      "image/png": "[encoded data removed]",
      "text/plain": [
       "<Figure size 432x288 with 2 Axes>"
      ]
     },
     "metadata": {},
     "output_type": "display_data"
    }
   ],
   "source": [
    "plot_confusion_matrix(xgb, X_test, y_test)\n",
    "plt.grid(b=None)\n",
    "plt.show()"
   ]
  },
  {
   "cell_type": "code",
   "execution_count": 159,
   "metadata": {},
   "outputs": [
    {
     "name": "stdout",
     "output_type": "stream",
     "text": [
      "              precision    recall  f1-score   support\n",
      "\n",
      "           0       0.82      0.69      0.75     19088\n",
      "           1       0.36      0.53      0.42      6207\n",
      "\n",
      "    accuracy                           0.65     25295\n",
      "   macro avg       0.59      0.61      0.59     25295\n",
      "weighted avg       0.70      0.65      0.67     25295\n",
      "\n"
     ]
    }
   ],
   "source": [
    "cr_xgb = classification_report(y_test, ypred)\n",
    "print(cr_xgb)"
   ]
  },
  {
   "cell_type": "markdown",
   "metadata": {},
   "source": [
    "##### We can observe that the average f1 score is now imporved using XGB\n",
    "##### compared to the baseline Logistic Regression Model and the Random\n",
    "##### Forest classifier trained using SMOTe"
   ]
  },
  {
   "cell_type": "markdown",
   "metadata": {},
   "source": [
    "#### Receiver Operating Characteristic"
   ]
  },
  {
   "cell_type": "code",
   "execution_count": 160,
   "metadata": {},
   "outputs": [
    {
     "data": {
      "image/png": "[encoded data removed]",
      "text/plain": [
       "<Figure size 432x288 with 1 Axes>"
      ]
     },
     "metadata": {},
     "output_type": "display_data"
    }
   ],
   "source": [
    "roc_auc = roc_auc_score(y_test, pred_prob)\n",
    "\n",
    "fpr, tpr, thresholds = roc_curve(y_test, pred_prob) \n",
    "plt.figure()\n",
    "plt.title('Receiver Operating Characteristic')\n",
    "plt.plot(fpr, tpr, 'b', label = 'AUC = %0.2f' % roc_auc)\n",
    "plt.legend(loc = 'lower right')\n",
    "plt.plot([0, 1], [0, 1],'r--')\n",
    "plt.xlim([0, 1])\n",
    "plt.ylim([0, 1])\n",
    "plt.ylabel('True Positive Rate')\n",
    "plt.xlabel('False Positive Rate')\n",
    "plt.show()"
   ]
  },
  {
   "cell_type": "markdown",
   "metadata": {},
   "source": [
    "#### Significant Features of the Final Model"
   ]
  },
  {
   "cell_type": "code",
   "execution_count": 161,
   "metadata": {},
   "outputs": [
    {
     "data": {
      "image/png": "[encoded data removed]",
      "text/plain": [
       "<Figure size 504x720 with 1 Axes>"
      ]
     },
     "metadata": {},
     "output_type": "display_data"
    }
   ],
   "source": [
    "plt.figure(figsize=(7,10))\n",
    "sns.barplot(x=xgb.feature_importances_,y=X.columns)\n",
    "plt.title('Significant Features of the Final Model')\n",
    "plt.show()"
   ]
  },
  {
   "cell_type": "markdown",
   "metadata": {},
   "source": [
    "#### 2-class Precision-Recall curve"
   ]
  },
  {
   "cell_type": "code",
   "execution_count": 162,
   "metadata": {},
   "outputs": [
    {
     "data": {
      "image/png": "[encoded data removed]",
      "text/plain": [
       "<Figure size 432x288 with 1 Axes>"
      ]
     },
     "metadata": {},
     "output_type": "display_data"
    }
   ],
   "source": [
    "pred_prob = xgb.predict_proba(X_test)[:,1]\n",
    "\n",
    "# Get average precision\n",
    "average_precision = average_precision_score(y_test, ypred)\n",
    "# Plot PR\n",
    "precision, recall, _ = precision_recall_curve(y_test, pred_prob)\n",
    "\n",
    "plt.step(recall, precision, color='b', alpha=0.2, where='post')\n",
    "plt.fill_between(recall, precision, step='post', alpha=0.2, color='b')\n",
    "plt.xlabel('Recall')\n",
    "plt.ylabel('Precision')\n",
    "plt.ylim([0.0, 1.05])\n",
    "plt.xlim([0.0, 1.0])\n",
    "plt.title('2-class Precision-Recall curve: AP={0:0.2f}'.format(average_precision))\n",
    "plt.savefig('XGBoost_PR')\n",
    "plt.show()"
   ]
  },
  {
   "cell_type": "markdown",
   "metadata": {},
   "source": [
    "#### Generating submission files"
   ]
  },
  {
   "cell_type": "code",
   "execution_count": 167,
   "metadata": {},
   "outputs": [
    {
     "name": "stdout",
     "output_type": "stream",
     "text": [
      "(101180, 8) (101180,)\n"
     ]
    }
   ],
   "source": [
    "# Reading the training file again \n",
    "train_two = pd.read_csv('Dataset.txt', sep=\"\\t\", header=0, low_memory=False, dtype={'C':'int'}, index_col='Index')\n",
    "X = train_two.drop('C', axis=1)\n",
    "\n",
    "# breaking down time attributes\n",
    "X['F15'] = pd.to_datetime(X['F15']) \n",
    "X['F16'] = pd.to_datetime(X['F16']) \n",
    "\n",
    "X['year_f15'] = X['F15'].dt.year\n",
    "X['month_f15'] = X['F15'].dt.month\n",
    "X['week_f15'] = X['F15'].dt.week\n",
    "X['day_f15'] = X['F15'].dt.day_name()\n",
    "\n",
    "le = LabelEncoder()\n",
    "X['month_f15'] = le.fit_transform(X['month_f15'])\n",
    "X['day_f15'] = le.fit_transform(X['day_f15'])\n",
    "\n",
    "X['year_f16'] = X['F16'].dt.year\n",
    "\n",
    "# dropping insignificant features\n",
    "X = X.drop(not_sgfnt, axis=1)\n",
    "\n",
    "# dropping `F17` and `F18`\n",
    "X = X.drop('F17', axis=1)\n",
    "X = X.drop('F18', axis=1)\n",
    "\n",
    "y = train_two['C']\n",
    "\n",
    "print(X.shape, y.shape)\n",
    "# print(not_sgfnt)\n"
   ]
  },
  {
   "cell_type": "code",
   "execution_count": 168,
   "metadata": {},
   "outputs": [
    {
     "name": "stdout",
     "output_type": "stream",
     "text": [
      "['f0', 'f1', 'f2', 'f3', 'f4', 'f5', 'f6', 'f7'] Index(['F2', 'F4', 'F10', 'F19', 'F20', 'F21', 'F22', 'year_f15'], dtype='object')\n"
     ]
    }
   ],
   "source": [
    "# getting list of columns as used in the model\n",
    "print(xgb.get_booster().feature_names, X.columns)\n",
    "cols_as_in_model = xgb.get_booster().feature_names"
   ]
  },
  {
   "cell_type": "code",
   "execution_count": 169,
   "metadata": {},
   "outputs": [
    {
     "data": {
      "text/plain": [
       "array([[-0.00400258,  1.39430314,  0.72960425, ..., -0.75131828,\n",
       "        -0.544035  , -0.37495074],\n",
       "       [-0.7625128 ,  0.94317161, -0.20201337, ...,  2.80840847,\n",
       "         0.50276313, -2.11933037],\n",
       "       [ 0.41696341, -1.39041951,  1.02763928, ..., -0.75131828,\n",
       "        -0.12531574,  0.37264053],\n",
       "       ...,\n",
       "       [ 0.07048947,  1.31492238,  0.90332569, ..., -0.54192259,\n",
       "        -0.12531574,  0.12344344],\n",
       "       [ 0.15468504,  1.05738974,  0.02743034, ..., -0.75131828,\n",
       "        -0.75339462, -2.11933037],\n",
       "       [-1.08615683,  0.3776747 , -1.53473071, ..., -0.12313121,\n",
       "        -0.75339462, -2.11933037]])"
      ]
     },
     "execution_count": 169,
     "metadata": {},
     "output_type": "execute_result"
    }
   ],
   "source": [
    "from sklearn.preprocessing import StandardScaler\n",
    "\n",
    "scaler = StandardScaler()\n",
    "X_copy = scaler.fit_transform(X_copy)\n",
    "X_copy"
   ]
  },
  {
   "cell_type": "code",
   "execution_count": 170,
   "metadata": {},
   "outputs": [],
   "source": [
    "train_submission = pd.DataFrame({\n",
    "    'actual_y': y,\n",
    "    'predicted_y': xgb.predict(X_copy)\n",
    "})\n",
    "\n",
    "train_submission.to_csv(\"training_preds_new.tsv\", sep='\\t')"
   ]
  },
  {
   "cell_type": "markdown",
   "metadata": {},
   "source": [
    "### Conclusion\n",
    "\n",
    "There were many feature which didn't have significant contribution in the predictive power of the classifier.\n",
    "\n",
    "The uniform distribution in the numerical features had an impact on classification, as observed in the final confusion matrix\n",
    "\n",
    "Transfomring the date column into year column proved a useful features, as observed in the feature importance plot as well\n",
    "\n",
    "F19 and F20 are some of the powerful features which proved as very good predictors"
   ]
  },
  {
   "cell_type": "markdown",
   "metadata": {},
   "source": [
    "# Test File:"
   ]
  },
  {
   "cell_type": "code",
   "execution_count": 171,
   "metadata": {},
   "outputs": [],
   "source": [
    "df_test = pd.read_csv('Dataset_test.txt', sep=\"\\t\", header=0, low_memory=False, dtype={'C':'int'}, index_col='Index')"
   ]
  },
  {
   "cell_type": "code",
   "execution_count": 172,
   "metadata": {},
   "outputs": [
    {
     "data": {
      "text/html": [
       "<div>\n",
       "<style scoped>\n",
       "    .dataframe tbody tr th:only-of-type {\n",
       "        vertical-align: middle;\n",
       "    }\n",
       "\n",
       "    .dataframe tbody tr th {\n",
       "        vertical-align: top;\n",
       "    }\n",
       "\n",
       "    .dataframe thead th {\n",
       "        text-align: right;\n",
       "    }\n",
       "</style>\n",
       "<table border=\"1\" class=\"dataframe\">\n",
       "  <thead>\n",
       "    <tr style=\"text-align: right;\">\n",
       "      <th></th>\n",
       "      <th>F1</th>\n",
       "      <th>F2</th>\n",
       "      <th>F3</th>\n",
       "      <th>F4</th>\n",
       "      <th>F5</th>\n",
       "      <th>F6</th>\n",
       "      <th>F7</th>\n",
       "      <th>F8</th>\n",
       "      <th>F9</th>\n",
       "      <th>F10</th>\n",
       "      <th>F11</th>\n",
       "      <th>F12</th>\n",
       "      <th>F13</th>\n",
       "      <th>F14</th>\n",
       "      <th>F15</th>\n",
       "      <th>F16</th>\n",
       "      <th>F17</th>\n",
       "      <th>F18</th>\n",
       "      <th>F19</th>\n",
       "      <th>F20</th>\n",
       "      <th>F21</th>\n",
       "      <th>F22</th>\n",
       "    </tr>\n",
       "    <tr>\n",
       "      <th>Index</th>\n",
       "      <th></th>\n",
       "      <th></th>\n",
       "      <th></th>\n",
       "      <th></th>\n",
       "      <th></th>\n",
       "      <th></th>\n",
       "      <th></th>\n",
       "      <th></th>\n",
       "      <th></th>\n",
       "      <th></th>\n",
       "      <th></th>\n",
       "      <th></th>\n",
       "      <th></th>\n",
       "      <th></th>\n",
       "      <th></th>\n",
       "      <th></th>\n",
       "      <th></th>\n",
       "      <th></th>\n",
       "      <th></th>\n",
       "      <th></th>\n",
       "      <th></th>\n",
       "      <th></th>\n",
       "    </tr>\n",
       "  </thead>\n",
       "  <tbody>\n",
       "    <tr>\n",
       "      <td>T30234341</td>\n",
       "      <td>0.654765</td>\n",
       "      <td>0.812009</td>\n",
       "      <td>0.603190</td>\n",
       "      <td>0.391039</td>\n",
       "      <td>-5220</td>\n",
       "      <td>4825</td>\n",
       "      <td>-1784</td>\n",
       "      <td>7447</td>\n",
       "      <td>-7147</td>\n",
       "      <td>-3461806391</td>\n",
       "      <td>8178108368</td>\n",
       "      <td>-8674321652</td>\n",
       "      <td>8074343777</td>\n",
       "      <td>5553595074</td>\n",
       "      <td>9/17/1996</td>\n",
       "      <td>8/18/1990</td>\n",
       "      <td>1</td>\n",
       "      <td>1</td>\n",
       "      <td>436</td>\n",
       "      <td>478</td>\n",
       "      <td>1</td>\n",
       "      <td>1</td>\n",
       "    </tr>\n",
       "    <tr>\n",
       "      <td>T30234342</td>\n",
       "      <td>0.694636</td>\n",
       "      <td>0.690568</td>\n",
       "      <td>0.473460</td>\n",
       "      <td>0.259760</td>\n",
       "      <td>-618</td>\n",
       "      <td>-5018</td>\n",
       "      <td>2012</td>\n",
       "      <td>9259</td>\n",
       "      <td>9267</td>\n",
       "      <td>-36253473</td>\n",
       "      <td>-6531193961</td>\n",
       "      <td>1849753082</td>\n",
       "      <td>-5556861821</td>\n",
       "      <td>2216284070</td>\n",
       "      <td>11/7/1985</td>\n",
       "      <td>4/11/1990</td>\n",
       "      <td>1</td>\n",
       "      <td>1</td>\n",
       "      <td>138</td>\n",
       "      <td>56</td>\n",
       "      <td>10</td>\n",
       "      <td>4</td>\n",
       "    </tr>\n",
       "    <tr>\n",
       "      <td>T30234343</td>\n",
       "      <td>0.203759</td>\n",
       "      <td>0.323301</td>\n",
       "      <td>0.492294</td>\n",
       "      <td>0.011448</td>\n",
       "      <td>-8778</td>\n",
       "      <td>6141</td>\n",
       "      <td>6965</td>\n",
       "      <td>3774</td>\n",
       "      <td>4303</td>\n",
       "      <td>5354243488</td>\n",
       "      <td>8053401796</td>\n",
       "      <td>782597920</td>\n",
       "      <td>-2121815725</td>\n",
       "      <td>-315409510</td>\n",
       "      <td>7/9/1984</td>\n",
       "      <td>5/4/1997</td>\n",
       "      <td>1</td>\n",
       "      <td>1</td>\n",
       "      <td>117</td>\n",
       "      <td>323</td>\n",
       "      <td>10</td>\n",
       "      <td>1</td>\n",
       "    </tr>\n",
       "    <tr>\n",
       "      <td>T30234344</td>\n",
       "      <td>0.319627</td>\n",
       "      <td>0.286247</td>\n",
       "      <td>0.906197</td>\n",
       "      <td>0.093840</td>\n",
       "      <td>-7929</td>\n",
       "      <td>4471</td>\n",
       "      <td>7715</td>\n",
       "      <td>9543</td>\n",
       "      <td>335</td>\n",
       "      <td>7405036171</td>\n",
       "      <td>-2666864618</td>\n",
       "      <td>-8649240595</td>\n",
       "      <td>1389754605</td>\n",
       "      <td>-3360224957</td>\n",
       "      <td>6/3/1987</td>\n",
       "      <td>7/1/1988</td>\n",
       "      <td>1</td>\n",
       "      <td>1</td>\n",
       "      <td>115</td>\n",
       "      <td>149</td>\n",
       "      <td>16</td>\n",
       "      <td>21</td>\n",
       "    </tr>\n",
       "    <tr>\n",
       "      <td>T30234345</td>\n",
       "      <td>0.236003</td>\n",
       "      <td>0.782784</td>\n",
       "      <td>0.285689</td>\n",
       "      <td>0.383585</td>\n",
       "      <td>-3296</td>\n",
       "      <td>4564</td>\n",
       "      <td>-1580</td>\n",
       "      <td>-8559</td>\n",
       "      <td>-27</td>\n",
       "      <td>-6351599280</td>\n",
       "      <td>-2152422738</td>\n",
       "      <td>4768902493</td>\n",
       "      <td>3653338555</td>\n",
       "      <td>7604838279</td>\n",
       "      <td>7/17/1984</td>\n",
       "      <td>12/3/1993</td>\n",
       "      <td>1</td>\n",
       "      <td>1</td>\n",
       "      <td>527</td>\n",
       "      <td>281</td>\n",
       "      <td>3</td>\n",
       "      <td>1</td>\n",
       "    </tr>\n",
       "  </tbody>\n",
       "</table>\n",
       "</div>"
      ],
      "text/plain": [
       "                 F1        F2        F3        F4    F5    F6    F7    F8  \\\n",
       "Index                                                                       \n",
       "T30234341  0.654765  0.812009  0.603190  0.391039 -5220  4825 -1784  7447   \n",
       "T30234342  0.694636  0.690568  0.473460  0.259760  -618 -5018  2012  9259   \n",
       "T30234343  0.203759  0.323301  0.492294  0.011448 -8778  6141  6965  3774   \n",
       "T30234344  0.319627  0.286247  0.906197  0.093840 -7929  4471  7715  9543   \n",
       "T30234345  0.236003  0.782784  0.285689  0.383585 -3296  4564 -1580 -8559   \n",
       "\n",
       "             F9         F10         F11         F12         F13         F14  \\\n",
       "Index                                                                         \n",
       "T30234341 -7147 -3461806391  8178108368 -8674321652  8074343777  5553595074   \n",
       "T30234342  9267   -36253473 -6531193961  1849753082 -5556861821  2216284070   \n",
       "T30234343  4303  5354243488  8053401796   782597920 -2121815725  -315409510   \n",
       "T30234344   335  7405036171 -2666864618 -8649240595  1389754605 -3360224957   \n",
       "T30234345   -27 -6351599280 -2152422738  4768902493  3653338555  7604838279   \n",
       "\n",
       "                 F15        F16  F17  F18  F19  F20  F21  F22  \n",
       "Index                                                          \n",
       "T30234341  9/17/1996  8/18/1990    1    1  436  478    1    1  \n",
       "T30234342  11/7/1985  4/11/1990    1    1  138   56   10    4  \n",
       "T30234343   7/9/1984   5/4/1997    1    1  117  323   10    1  \n",
       "T30234344   6/3/1987   7/1/1988    1    1  115  149   16   21  \n",
       "T30234345  7/17/1984  12/3/1993    1    1  527  281    3    1  "
      ]
     },
     "execution_count": 172,
     "metadata": {},
     "output_type": "execute_result"
    }
   ],
   "source": [
    "df_test.head()"
   ]
  },
  {
   "cell_type": "code",
   "execution_count": 173,
   "metadata": {},
   "outputs": [
    {
     "data": {
      "text/html": [
       "<div>\n",
       "<style scoped>\n",
       "    .dataframe tbody tr th:only-of-type {\n",
       "        vertical-align: middle;\n",
       "    }\n",
       "\n",
       "    .dataframe tbody tr th {\n",
       "        vertical-align: top;\n",
       "    }\n",
       "\n",
       "    .dataframe thead th {\n",
       "        text-align: right;\n",
       "    }\n",
       "</style>\n",
       "<table border=\"1\" class=\"dataframe\">\n",
       "  <thead>\n",
       "    <tr style=\"text-align: right;\">\n",
       "      <th></th>\n",
       "      <th>F1</th>\n",
       "      <th>F2</th>\n",
       "      <th>F3</th>\n",
       "      <th>F4</th>\n",
       "      <th>F5</th>\n",
       "      <th>F6</th>\n",
       "      <th>F7</th>\n",
       "      <th>F8</th>\n",
       "      <th>F9</th>\n",
       "      <th>F10</th>\n",
       "      <th>F11</th>\n",
       "      <th>F12</th>\n",
       "      <th>F13</th>\n",
       "      <th>F14</th>\n",
       "      <th>F15</th>\n",
       "      <th>F16</th>\n",
       "      <th>F17</th>\n",
       "      <th>F18</th>\n",
       "      <th>F19</th>\n",
       "      <th>F20</th>\n",
       "      <th>F21</th>\n",
       "      <th>F22</th>\n",
       "    </tr>\n",
       "  </thead>\n",
       "  <tbody>\n",
       "    <tr>\n",
       "      <td>Total</td>\n",
       "      <td>0</td>\n",
       "      <td>0</td>\n",
       "      <td>0</td>\n",
       "      <td>0</td>\n",
       "      <td>0</td>\n",
       "      <td>0</td>\n",
       "      <td>0</td>\n",
       "      <td>0</td>\n",
       "      <td>0</td>\n",
       "      <td>0</td>\n",
       "      <td>0</td>\n",
       "      <td>0</td>\n",
       "      <td>0</td>\n",
       "      <td>0</td>\n",
       "      <td>0</td>\n",
       "      <td>0</td>\n",
       "      <td>0</td>\n",
       "      <td>0</td>\n",
       "      <td>0</td>\n",
       "      <td>0</td>\n",
       "      <td>0</td>\n",
       "      <td>0</td>\n",
       "    </tr>\n",
       "    <tr>\n",
       "      <td>Percent</td>\n",
       "      <td>0</td>\n",
       "      <td>0</td>\n",
       "      <td>0</td>\n",
       "      <td>0</td>\n",
       "      <td>0</td>\n",
       "      <td>0</td>\n",
       "      <td>0</td>\n",
       "      <td>0</td>\n",
       "      <td>0</td>\n",
       "      <td>0</td>\n",
       "      <td>0</td>\n",
       "      <td>0</td>\n",
       "      <td>0</td>\n",
       "      <td>0</td>\n",
       "      <td>0</td>\n",
       "      <td>0</td>\n",
       "      <td>0</td>\n",
       "      <td>0</td>\n",
       "      <td>0</td>\n",
       "      <td>0</td>\n",
       "      <td>0</td>\n",
       "      <td>0</td>\n",
       "    </tr>\n",
       "    <tr>\n",
       "      <td>Types</td>\n",
       "      <td>float64</td>\n",
       "      <td>float64</td>\n",
       "      <td>float64</td>\n",
       "      <td>float64</td>\n",
       "      <td>int64</td>\n",
       "      <td>int64</td>\n",
       "      <td>int64</td>\n",
       "      <td>int64</td>\n",
       "      <td>int64</td>\n",
       "      <td>int64</td>\n",
       "      <td>int64</td>\n",
       "      <td>int64</td>\n",
       "      <td>int64</td>\n",
       "      <td>int64</td>\n",
       "      <td>object</td>\n",
       "      <td>object</td>\n",
       "      <td>int64</td>\n",
       "      <td>int64</td>\n",
       "      <td>int64</td>\n",
       "      <td>int64</td>\n",
       "      <td>int64</td>\n",
       "      <td>int64</td>\n",
       "    </tr>\n",
       "  </tbody>\n",
       "</table>\n",
       "</div>"
      ],
      "text/plain": [
       "              F1       F2       F3       F4     F5     F6     F7     F8  \\\n",
       "Total          0        0        0        0      0      0      0      0   \n",
       "Percent        0        0        0        0      0      0      0      0   \n",
       "Types    float64  float64  float64  float64  int64  int64  int64  int64   \n",
       "\n",
       "            F9    F10    F11    F12    F13    F14     F15     F16    F17  \\\n",
       "Total        0      0      0      0      0      0       0       0      0   \n",
       "Percent      0      0      0      0      0      0       0       0      0   \n",
       "Types    int64  int64  int64  int64  int64  int64  object  object  int64   \n",
       "\n",
       "           F18    F19    F20    F21    F22  \n",
       "Total        0      0      0      0      0  \n",
       "Percent      0      0      0      0      0  \n",
       "Types    int64  int64  int64  int64  int64  "
      ]
     },
     "execution_count": 173,
     "metadata": {},
     "output_type": "execute_result"
    }
   ],
   "source": [
    "missing_data(df_test)"
   ]
  },
  {
   "cell_type": "code",
   "execution_count": 174,
   "metadata": {},
   "outputs": [],
   "source": [
    "# converting date columns to date type\n",
    "df_test['F15'] = pd.to_datetime(df_test['F15']) \n",
    "df_test['F16'] = pd.to_datetime(df_test['F16']) \n",
    "\n",
    "df_test['year_f15'] = df_test['F15'].dt.year\n",
    "df_test['month_f15'] = df_test['F15'].dt.month\n",
    "df_test['week_f15'] = df_test['F15'].dt.week\n",
    "df_test['day_f15'] = df_test['F15'].dt.day_name()\n",
    "\n",
    "le = LabelEncoder()\n",
    "df_test['month_f15'] = le.fit_transform(df_test['month_f15'])\n",
    "df_test['day_f15'] = le.fit_transform(df_test['day_f15'])\n",
    "\n",
    "df_test['year_f16'] = df_test['F16'].dt.year"
   ]
  },
  {
   "cell_type": "code",
   "execution_count": 175,
   "metadata": {},
   "outputs": [
    {
     "data": {
      "text/html": [
       "<div>\n",
       "<style scoped>\n",
       "    .dataframe tbody tr th:only-of-type {\n",
       "        vertical-align: middle;\n",
       "    }\n",
       "\n",
       "    .dataframe tbody tr th {\n",
       "        vertical-align: top;\n",
       "    }\n",
       "\n",
       "    .dataframe thead th {\n",
       "        text-align: right;\n",
       "    }\n",
       "</style>\n",
       "<table border=\"1\" class=\"dataframe\">\n",
       "  <thead>\n",
       "    <tr style=\"text-align: right;\">\n",
       "      <th></th>\n",
       "      <th>F1</th>\n",
       "      <th>F2</th>\n",
       "      <th>F3</th>\n",
       "      <th>F4</th>\n",
       "      <th>F5</th>\n",
       "      <th>F6</th>\n",
       "      <th>F7</th>\n",
       "      <th>F8</th>\n",
       "      <th>F9</th>\n",
       "      <th>F10</th>\n",
       "      <th>F11</th>\n",
       "      <th>F12</th>\n",
       "      <th>F13</th>\n",
       "      <th>F14</th>\n",
       "      <th>F15</th>\n",
       "      <th>F16</th>\n",
       "      <th>F17</th>\n",
       "      <th>F18</th>\n",
       "      <th>F19</th>\n",
       "      <th>F20</th>\n",
       "      <th>F21</th>\n",
       "      <th>F22</th>\n",
       "      <th>year_f15</th>\n",
       "      <th>month_f15</th>\n",
       "      <th>week_f15</th>\n",
       "      <th>day_f15</th>\n",
       "      <th>year_f16</th>\n",
       "    </tr>\n",
       "    <tr>\n",
       "      <th>Index</th>\n",
       "      <th></th>\n",
       "      <th></th>\n",
       "      <th></th>\n",
       "      <th></th>\n",
       "      <th></th>\n",
       "      <th></th>\n",
       "      <th></th>\n",
       "      <th></th>\n",
       "      <th></th>\n",
       "      <th></th>\n",
       "      <th></th>\n",
       "      <th></th>\n",
       "      <th></th>\n",
       "      <th></th>\n",
       "      <th></th>\n",
       "      <th></th>\n",
       "      <th></th>\n",
       "      <th></th>\n",
       "      <th></th>\n",
       "      <th></th>\n",
       "      <th></th>\n",
       "      <th></th>\n",
       "      <th></th>\n",
       "      <th></th>\n",
       "      <th></th>\n",
       "      <th></th>\n",
       "      <th></th>\n",
       "    </tr>\n",
       "  </thead>\n",
       "  <tbody>\n",
       "    <tr>\n",
       "      <td>T30234341</td>\n",
       "      <td>0.654765</td>\n",
       "      <td>0.812009</td>\n",
       "      <td>0.603190</td>\n",
       "      <td>0.391039</td>\n",
       "      <td>-5220</td>\n",
       "      <td>4825</td>\n",
       "      <td>-1784</td>\n",
       "      <td>7447</td>\n",
       "      <td>-7147</td>\n",
       "      <td>-3461806391</td>\n",
       "      <td>8178108368</td>\n",
       "      <td>-8674321652</td>\n",
       "      <td>8074343777</td>\n",
       "      <td>5553595074</td>\n",
       "      <td>1996-09-17</td>\n",
       "      <td>1990-08-18</td>\n",
       "      <td>1</td>\n",
       "      <td>1</td>\n",
       "      <td>436</td>\n",
       "      <td>478</td>\n",
       "      <td>1</td>\n",
       "      <td>1</td>\n",
       "      <td>1996</td>\n",
       "      <td>8</td>\n",
       "      <td>38</td>\n",
       "      <td>5</td>\n",
       "      <td>1990</td>\n",
       "    </tr>\n",
       "    <tr>\n",
       "      <td>T30234342</td>\n",
       "      <td>0.694636</td>\n",
       "      <td>0.690568</td>\n",
       "      <td>0.473460</td>\n",
       "      <td>0.259760</td>\n",
       "      <td>-618</td>\n",
       "      <td>-5018</td>\n",
       "      <td>2012</td>\n",
       "      <td>9259</td>\n",
       "      <td>9267</td>\n",
       "      <td>-36253473</td>\n",
       "      <td>-6531193961</td>\n",
       "      <td>1849753082</td>\n",
       "      <td>-5556861821</td>\n",
       "      <td>2216284070</td>\n",
       "      <td>1985-11-07</td>\n",
       "      <td>1990-04-11</td>\n",
       "      <td>1</td>\n",
       "      <td>1</td>\n",
       "      <td>138</td>\n",
       "      <td>56</td>\n",
       "      <td>10</td>\n",
       "      <td>4</td>\n",
       "      <td>1985</td>\n",
       "      <td>10</td>\n",
       "      <td>45</td>\n",
       "      <td>4</td>\n",
       "      <td>1990</td>\n",
       "    </tr>\n",
       "    <tr>\n",
       "      <td>T30234343</td>\n",
       "      <td>0.203759</td>\n",
       "      <td>0.323301</td>\n",
       "      <td>0.492294</td>\n",
       "      <td>0.011448</td>\n",
       "      <td>-8778</td>\n",
       "      <td>6141</td>\n",
       "      <td>6965</td>\n",
       "      <td>3774</td>\n",
       "      <td>4303</td>\n",
       "      <td>5354243488</td>\n",
       "      <td>8053401796</td>\n",
       "      <td>782597920</td>\n",
       "      <td>-2121815725</td>\n",
       "      <td>-315409510</td>\n",
       "      <td>1984-07-09</td>\n",
       "      <td>1997-05-04</td>\n",
       "      <td>1</td>\n",
       "      <td>1</td>\n",
       "      <td>117</td>\n",
       "      <td>323</td>\n",
       "      <td>10</td>\n",
       "      <td>1</td>\n",
       "      <td>1984</td>\n",
       "      <td>6</td>\n",
       "      <td>28</td>\n",
       "      <td>1</td>\n",
       "      <td>1997</td>\n",
       "    </tr>\n",
       "    <tr>\n",
       "      <td>T30234344</td>\n",
       "      <td>0.319627</td>\n",
       "      <td>0.286247</td>\n",
       "      <td>0.906197</td>\n",
       "      <td>0.093840</td>\n",
       "      <td>-7929</td>\n",
       "      <td>4471</td>\n",
       "      <td>7715</td>\n",
       "      <td>9543</td>\n",
       "      <td>335</td>\n",
       "      <td>7405036171</td>\n",
       "      <td>-2666864618</td>\n",
       "      <td>-8649240595</td>\n",
       "      <td>1389754605</td>\n",
       "      <td>-3360224957</td>\n",
       "      <td>1987-06-03</td>\n",
       "      <td>1988-07-01</td>\n",
       "      <td>1</td>\n",
       "      <td>1</td>\n",
       "      <td>115</td>\n",
       "      <td>149</td>\n",
       "      <td>16</td>\n",
       "      <td>21</td>\n",
       "      <td>1987</td>\n",
       "      <td>5</td>\n",
       "      <td>23</td>\n",
       "      <td>6</td>\n",
       "      <td>1988</td>\n",
       "    </tr>\n",
       "    <tr>\n",
       "      <td>T30234345</td>\n",
       "      <td>0.236003</td>\n",
       "      <td>0.782784</td>\n",
       "      <td>0.285689</td>\n",
       "      <td>0.383585</td>\n",
       "      <td>-3296</td>\n",
       "      <td>4564</td>\n",
       "      <td>-1580</td>\n",
       "      <td>-8559</td>\n",
       "      <td>-27</td>\n",
       "      <td>-6351599280</td>\n",
       "      <td>-2152422738</td>\n",
       "      <td>4768902493</td>\n",
       "      <td>3653338555</td>\n",
       "      <td>7604838279</td>\n",
       "      <td>1984-07-17</td>\n",
       "      <td>1993-12-03</td>\n",
       "      <td>1</td>\n",
       "      <td>1</td>\n",
       "      <td>527</td>\n",
       "      <td>281</td>\n",
       "      <td>3</td>\n",
       "      <td>1</td>\n",
       "      <td>1984</td>\n",
       "      <td>6</td>\n",
       "      <td>29</td>\n",
       "      <td>5</td>\n",
       "      <td>1993</td>\n",
       "    </tr>\n",
       "  </tbody>\n",
       "</table>\n",
       "</div>"
      ],
      "text/plain": [
       "                 F1        F2        F3        F4    F5    F6    F7    F8  \\\n",
       "Index                                                                       \n",
       "T30234341  0.654765  0.812009  0.603190  0.391039 -5220  4825 -1784  7447   \n",
       "T30234342  0.694636  0.690568  0.473460  0.259760  -618 -5018  2012  9259   \n",
       "T30234343  0.203759  0.323301  0.492294  0.011448 -8778  6141  6965  3774   \n",
       "T30234344  0.319627  0.286247  0.906197  0.093840 -7929  4471  7715  9543   \n",
       "T30234345  0.236003  0.782784  0.285689  0.383585 -3296  4564 -1580 -8559   \n",
       "\n",
       "             F9         F10         F11         F12         F13         F14  \\\n",
       "Index                                                                         \n",
       "T30234341 -7147 -3461806391  8178108368 -8674321652  8074343777  5553595074   \n",
       "T30234342  9267   -36253473 -6531193961  1849753082 -5556861821  2216284070   \n",
       "T30234343  4303  5354243488  8053401796   782597920 -2121815725  -315409510   \n",
       "T30234344   335  7405036171 -2666864618 -8649240595  1389754605 -3360224957   \n",
       "T30234345   -27 -6351599280 -2152422738  4768902493  3653338555  7604838279   \n",
       "\n",
       "                 F15        F16  F17  F18  F19  F20  F21  F22  year_f15  \\\n",
       "Index                                                                     \n",
       "T30234341 1996-09-17 1990-08-18    1    1  436  478    1    1      1996   \n",
       "T30234342 1985-11-07 1990-04-11    1    1  138   56   10    4      1985   \n",
       "T30234343 1984-07-09 1997-05-04    1    1  117  323   10    1      1984   \n",
       "T30234344 1987-06-03 1988-07-01    1    1  115  149   16   21      1987   \n",
       "T30234345 1984-07-17 1993-12-03    1    1  527  281    3    1      1984   \n",
       "\n",
       "           month_f15  week_f15  day_f15  year_f16  \n",
       "Index                                              \n",
       "T30234341          8        38        5      1990  \n",
       "T30234342         10        45        4      1990  \n",
       "T30234343          6        28        1      1997  \n",
       "T30234344          5        23        6      1988  \n",
       "T30234345          6        29        5      1993  "
      ]
     },
     "execution_count": 175,
     "metadata": {},
     "output_type": "execute_result"
    }
   ],
   "source": [
    "df_test.head()"
   ]
  },
  {
   "cell_type": "code",
   "execution_count": 176,
   "metadata": {},
   "outputs": [
    {
     "data": {
      "text/html": [
       "<div>\n",
       "<style scoped>\n",
       "    .dataframe tbody tr th:only-of-type {\n",
       "        vertical-align: middle;\n",
       "    }\n",
       "\n",
       "    .dataframe tbody tr th {\n",
       "        vertical-align: top;\n",
       "    }\n",
       "\n",
       "    .dataframe thead th {\n",
       "        text-align: right;\n",
       "    }\n",
       "</style>\n",
       "<table border=\"1\" class=\"dataframe\">\n",
       "  <thead>\n",
       "    <tr style=\"text-align: right;\">\n",
       "      <th></th>\n",
       "      <th>F2</th>\n",
       "      <th>F4</th>\n",
       "      <th>F10</th>\n",
       "      <th>F19</th>\n",
       "      <th>F20</th>\n",
       "      <th>F21</th>\n",
       "      <th>F22</th>\n",
       "      <th>year_f15</th>\n",
       "    </tr>\n",
       "    <tr>\n",
       "      <th>Index</th>\n",
       "      <th></th>\n",
       "      <th></th>\n",
       "      <th></th>\n",
       "      <th></th>\n",
       "      <th></th>\n",
       "      <th></th>\n",
       "      <th></th>\n",
       "      <th></th>\n",
       "    </tr>\n",
       "  </thead>\n",
       "  <tbody>\n",
       "    <tr>\n",
       "      <td>T30234341</td>\n",
       "      <td>0.812009</td>\n",
       "      <td>0.391039</td>\n",
       "      <td>-3461806391</td>\n",
       "      <td>436</td>\n",
       "      <td>478</td>\n",
       "      <td>1</td>\n",
       "      <td>1</td>\n",
       "      <td>1996</td>\n",
       "    </tr>\n",
       "    <tr>\n",
       "      <td>T30234342</td>\n",
       "      <td>0.690568</td>\n",
       "      <td>0.259760</td>\n",
       "      <td>-36253473</td>\n",
       "      <td>138</td>\n",
       "      <td>56</td>\n",
       "      <td>10</td>\n",
       "      <td>4</td>\n",
       "      <td>1985</td>\n",
       "    </tr>\n",
       "    <tr>\n",
       "      <td>T30234343</td>\n",
       "      <td>0.323301</td>\n",
       "      <td>0.011448</td>\n",
       "      <td>5354243488</td>\n",
       "      <td>117</td>\n",
       "      <td>323</td>\n",
       "      <td>10</td>\n",
       "      <td>1</td>\n",
       "      <td>1984</td>\n",
       "    </tr>\n",
       "    <tr>\n",
       "      <td>T30234344</td>\n",
       "      <td>0.286247</td>\n",
       "      <td>0.093840</td>\n",
       "      <td>7405036171</td>\n",
       "      <td>115</td>\n",
       "      <td>149</td>\n",
       "      <td>16</td>\n",
       "      <td>21</td>\n",
       "      <td>1987</td>\n",
       "    </tr>\n",
       "    <tr>\n",
       "      <td>T30234345</td>\n",
       "      <td>0.782784</td>\n",
       "      <td>0.383585</td>\n",
       "      <td>-6351599280</td>\n",
       "      <td>527</td>\n",
       "      <td>281</td>\n",
       "      <td>3</td>\n",
       "      <td>1</td>\n",
       "      <td>1984</td>\n",
       "    </tr>\n",
       "  </tbody>\n",
       "</table>\n",
       "</div>"
      ],
      "text/plain": [
       "                 F2        F4         F10  F19  F20  F21  F22  year_f15\n",
       "Index                                                                  \n",
       "T30234341  0.812009  0.391039 -3461806391  436  478    1    1      1996\n",
       "T30234342  0.690568  0.259760   -36253473  138   56   10    4      1985\n",
       "T30234343  0.323301  0.011448  5354243488  117  323   10    1      1984\n",
       "T30234344  0.286247  0.093840  7405036171  115  149   16   21      1987\n",
       "T30234345  0.782784  0.383585 -6351599280  527  281    3    1      1984"
      ]
     },
     "execution_count": 176,
     "metadata": {},
     "output_type": "execute_result"
    }
   ],
   "source": [
    "df_test = df_test.drop(not_sgfnt, axis=1)\n",
    "df_test = df_test.drop('F17', axis=1)\n",
    "df_test = df_test.drop('F18', axis=1)\n",
    "df_test.head()"
   ]
  },
  {
   "cell_type": "code",
   "execution_count": 177,
   "metadata": {},
   "outputs": [],
   "source": [
    "x = df_test.copy()"
   ]
  },
  {
   "cell_type": "code",
   "execution_count": 181,
   "metadata": {},
   "outputs": [
    {
     "data": {
      "text/plain": [
       "array([[ 1.07940802e+00, -3.75007398e-01, -5.94248838e-01, ...,\n",
       "        -7.60685803e-01, -7.52957342e-01,  2.12295887e+00],\n",
       "       [ 6.58070154e-01, -8.30729772e-01, -1.70081497e-03, ...,\n",
       "         1.12203520e+00, -1.20073988e-01, -6.20873839e-01],\n",
       "       [-6.16150840e-01, -1.69271909e+00,  9.30740864e-01, ...,\n",
       "         1.12203520e+00, -7.52957342e-01, -8.70313177e-01],\n",
       "       ...,\n",
       "       [-1.63720589e+00,  3.12361888e-01, -4.09588496e-01, ...,\n",
       "         4.94461530e-01,  9.08871307e-02,  2.37239821e+00],\n",
       "       [ 5.26078679e-01, -3.93091550e-01,  4.12719487e-01, ...,\n",
       "         2.85270308e-01, -1.20073988e-01,  1.62408020e+00],\n",
       "       [-3.33949928e-01, -1.35278301e+00, -1.86490223e-01, ...,\n",
       "        -5.51494581e-01, -3.31035106e-01,  1.12520152e+00]])"
      ]
     },
     "execution_count": 181,
     "metadata": {},
     "output_type": "execute_result"
    }
   ],
   "source": [
    "from sklearn.preprocessing import StandardScaler\n",
    "\n",
    "scaler = StandardScaler()\n",
    "x = scaler.fit_transform(x)\n",
    "x"
   ]
  },
  {
   "cell_type": "code",
   "execution_count": 182,
   "metadata": {},
   "outputs": [],
   "source": [
    "\n",
    "pred = xgb.predict(x)\n",
    "# type(x)"
   ]
  },
  {
   "cell_type": "code",
   "execution_count": 183,
   "metadata": {},
   "outputs": [
    {
     "data": {
      "text/html": [
       "<div>\n",
       "<style scoped>\n",
       "    .dataframe tbody tr th:only-of-type {\n",
       "        vertical-align: middle;\n",
       "    }\n",
       "\n",
       "    .dataframe tbody tr th {\n",
       "        vertical-align: top;\n",
       "    }\n",
       "\n",
       "    .dataframe thead th {\n",
       "        text-align: right;\n",
       "    }\n",
       "</style>\n",
       "<table border=\"1\" class=\"dataframe\">\n",
       "  <thead>\n",
       "    <tr style=\"text-align: right;\">\n",
       "      <th></th>\n",
       "      <th>predicted_y</th>\n",
       "    </tr>\n",
       "    <tr>\n",
       "      <th>Index</th>\n",
       "      <th></th>\n",
       "    </tr>\n",
       "  </thead>\n",
       "  <tbody>\n",
       "    <tr>\n",
       "      <td>T30234341</td>\n",
       "      <td>1</td>\n",
       "    </tr>\n",
       "    <tr>\n",
       "      <td>T30234342</td>\n",
       "      <td>1</td>\n",
       "    </tr>\n",
       "    <tr>\n",
       "      <td>T30234343</td>\n",
       "      <td>0</td>\n",
       "    </tr>\n",
       "    <tr>\n",
       "      <td>T30234344</td>\n",
       "      <td>0</td>\n",
       "    </tr>\n",
       "    <tr>\n",
       "      <td>T30234345</td>\n",
       "      <td>1</td>\n",
       "    </tr>\n",
       "  </tbody>\n",
       "</table>\n",
       "</div>"
      ],
      "text/plain": [
       "           predicted_y\n",
       "Index                 \n",
       "T30234341            1\n",
       "T30234342            1\n",
       "T30234343            0\n",
       "T30234344            0\n",
       "T30234345            1"
      ]
     },
     "execution_count": 183,
     "metadata": {},
     "output_type": "execute_result"
    }
   ],
   "source": [
    "pred\n",
    "type(pred)\n",
    "\n",
    "\n",
    "df_x = pd.DataFrame(data=pred, index=df_test.index)\n",
    "df_x.columns = ['predicted_y']\n",
    "df_x.head()\n"
   ]
  },
  {
   "cell_type": "code",
   "execution_count": 184,
   "metadata": {},
   "outputs": [],
   "source": [
    "df_x.to_csv(\"testing_preds.tsv\", sep='\\t')"
   ]
  },
  {
   "cell_type": "code",
   "execution_count": null,
   "metadata": {},
   "outputs": [],
   "source": []
  }
 ],
 "metadata": {
  "kernelspec": {
   "display_name": "Python 3",
   "language": "python",
   "name": "python3"
  },
  "language_info": {
   "codemirror_mode": {
    "name": "ipython",
    "version": 3
   },
   "file_extension": ".py",
   "mimetype": "text/x-python",
   "name": "python",
   "nbconvert_exporter": "python",
   "pygments_lexer": "ipython3",
   "version": "3.7.4"
  }
 },
 "nbformat": 4,
 "nbformat_minor": 2
}
